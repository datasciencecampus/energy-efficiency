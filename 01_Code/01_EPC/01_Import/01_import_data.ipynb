{
 "cells": [
  {
   "cell_type": "markdown",
   "metadata": {},
   "source": [
    "# Data Import\n",
    "\n"
   ]
  },
  {
   "cell_type": "code",
   "execution_count": null,
   "metadata": {},
   "outputs": [],
   "source": [
    "import numpy as np\n",
    "import pandas as pd\n",
    "import datetime\n",
    "import os\n",
    "import glob\n",
    "import json"
   ]
  },
  {
   "cell_type": "code",
   "execution_count": null,
   "metadata": {},
   "outputs": [],
   "source": [
    "# set variables from config file\n",
    "config_path = os.path.abspath('..')\n",
    "\n",
    "with open(config_path + '/config.json', 'r') as f:\n",
    "    config = json.load(f)\n",
    "\n",
    "epc_path = config['DEFAULT']['epc_path']\n",
    "epc_fname_suffix = config['DEFAULT']['epc_fname_suffix']\n",
    "epc_output_fname = config['DEFAULT']['epc_output_fname']\n",
    "processing_path = config['DEFAULT']['processing_path']"
   ]
  },
  {
   "cell_type": "code",
   "execution_count": null,
   "metadata": {},
   "outputs": [],
   "source": [
    "dtype_dict = {'INSPECTION_DATE':'str','LODGEMENT_DATE':'str'}\n",
    "epc_wales = pd.read_csv(os.path.join(processing_path,'epc_wales.csv'),header=0,delimiter=',',dtype=dtype_dict,parse_dates=['INSPECTION_DATE'])"
   ]
  },
  {
   "cell_type": "code",
   "execution_count": null,
   "metadata": {},
   "outputs": [],
   "source": [
    "epc_wales['CURRENT_ENERGY_RATING'].value_counts()"
   ]
  },
  {
   "cell_type": "code",
   "execution_count": null,
   "metadata": {},
   "outputs": [],
   "source": [
    "len(epc_wales)"
   ]
  },
  {
   "cell_type": "markdown",
   "metadata": {},
   "source": [
    "### Import EPC data and concatenate to a single dataframe "
   ]
  },
  {
   "cell_type": "code",
   "execution_count": null,
   "metadata": {},
   "outputs": [],
   "source": [
    "#Get a list of all the files in  the directory\n",
    "epc_filenames = os.listdir(epc_path) #350 elements\n",
    "#epc_filenames = epc_filenames[:10]\n",
    "\n",
    "dtype_dict = {'INSPECTION_DATE':'str','LODGEMENT_DATE':'str'}\n",
    "\n",
    "tmp_list = [] #List of dataframes\n",
    "df_count = 0  #The count of imported dataframes\n",
    "\n",
    "for fname in epc_filenames:\n",
    "    if fname.endswith(epc_fname_suffix):\n",
    "        print(\"Reading in dataframe %i: %s\" % (df_count, fname))\n",
    "        tmp = pd.read_csv(os.path.join(epc_path,fname),\n",
    "                          header = 0,\n",
    "                          #nrows = 2,\n",
    "                          delimiter = ',',\n",
    "                          dtype = dtype_dict,\n",
    "                          parse_dates = ['INSPECTION_DATE','LODGEMENT_DATE'])\n",
    "        #Extract the region from the filename and add to the dataframe\n",
    "        tmp['region'] = fname.split(' certificates.csv')[0]\n",
    "        #Append the imported dataframe to the list of dataframes\n",
    "        tmp_list.append(tmp)\n",
    "        #Increment the counter\n",
    "        df_count += 1\n",
    "\n",
    "#TODO columns 3, 15, 51, 59 and 60 have mixed data types consider specifying dtypes\n",
    "\n",
    "#Concatenate the list of dataframes to a single dataframe\n",
    "epc_data = pd.concat(tmp_list,ignore_index = True)"
   ]
  },
  {
   "cell_type": "markdown",
   "metadata": {},
   "source": [
    "### Export Data"
   ]
  },
  {
   "cell_type": "code",
   "execution_count": null,
   "metadata": {},
   "outputs": [],
   "source": [
    "#Sort\n",
    "epc_data.sort_values(['region','LMK_KEY'],inplace = True)\n",
    "\n",
    "#Export\n",
    "epc_data.to_csv(os.path.join(processing_path,epc_output_fname) + epc_fname_suffix,index = False)"
   ]
  }
 ],
 "metadata": {
  "kernelspec": {
   "display_name": "Python 3",
   "language": "python",
   "name": "python3"
  },
  "language_info": {
   "codemirror_mode": {
    "name": "ipython",
    "version": 3
   },
   "file_extension": ".py",
   "mimetype": "text/x-python",
   "name": "python",
   "nbconvert_exporter": "python",
   "pygments_lexer": "ipython3",
   "version": "3.7.0"
  }
 },
 "nbformat": 4,
 "nbformat_minor": 2
}
