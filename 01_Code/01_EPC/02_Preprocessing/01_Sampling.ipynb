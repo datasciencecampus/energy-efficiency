{
 "cells": [
  {
   "cell_type": "markdown",
   "metadata": {},
   "source": [
    "# Sampling data"
   ]
  },
  {
   "cell_type": "markdown",
   "metadata": {},
   "source": [
    "The script creates a dataset of EPC certificates for Wales, applies some initial cleaning steps and splits the data into a train and test set"
   ]
  },
  {
   "cell_type": "code",
   "execution_count": 1,
   "metadata": {},
   "outputs": [],
   "source": [
    "import numpy as np\n",
    "import pandas as pd\n",
    "import os\n",
    "import json\n",
    "from sklearn.model_selection import train_test_split\n",
    "import matplotlib.pyplot as plt\n",
    "from sklearn.utils import shuffle"
   ]
  },
  {
   "cell_type": "code",
   "execution_count": 2,
   "metadata": {},
   "outputs": [],
   "source": [
    "# set variables from config file\n",
    "config_path = os.path.abspath('..')[:-7]\n",
    "\n",
    "with open(config_path + '/config.json', 'r') as f:\n",
    "    config = json.load(f)\n",
    "\n",
    "epc_output_fname = config['DEFAULT']['epc_output_fname']\n",
    "processing_path = config['DEFAULT']['processing_path']\n",
    "epc_wales_fname = config['DEFAULT']['epc_wales_fname']\n",
    "epc_fname_suffix = config['DEFAULT']['epc_fname_suffix']\n",
    "epc_train_fname = config['DEFAULT']['epc_train_fname']\n",
    "epc_test_fname = config['DEFAULT']['epc_test_fname']"
   ]
  },
  {
   "cell_type": "code",
   "execution_count": 3,
   "metadata": {
    "scrolled": true
   },
   "outputs": [
    {
     "name": "stderr",
     "output_type": "stream",
     "text": [
      "/Users/soniawilliams/opt/anaconda3/lib/python3.7/site-packages/IPython/core/interactiveshell.py:3058: DtypeWarning: Columns (10,11,12,44,46,73,74) have mixed types. Specify dtype option on import or set low_memory=False.\n",
      "  interactivity=interactivity, compiler=compiler, result=result)\n"
     ]
    }
   ],
   "source": [
    "#Specify the import dictionary for the dates\n",
    "dtype_dict = {'INSPECTION_DATE':'str','LODGEMENT_DATE':'str'}\n",
    "\n",
    "#TODO consider specifying dtype for columns 10,11,12,44,46,73,74\n",
    "epc_full = pd.read_csv(os.path.join(processing_path,epc_output_fname) + epc_fname_suffix,header = 0, \n",
    "                       delimiter = ',', dtype = dtype_dict,parse_dates = ['INSPECTION_DATE','LODGEMENT_DATE'])"
   ]
  },
  {
   "cell_type": "markdown",
   "metadata": {},
   "source": [
    "### Cleanup"
   ]
  },
  {
   "cell_type": "markdown",
   "metadata": {},
   "source": [
    "### Keep certificates taken in wales and retain the feature set"
   ]
  },
  {
   "cell_type": "code",
   "execution_count": 4,
   "metadata": {},
   "outputs": [],
   "source": [
    "var_list = ['LMK_KEY','region','POSTCODE','BUILDING_REFERENCE_NUMBER','CURRENT_ENERGY_RATING',\n",
    "            'CURRENT_ENERGY_EFFICIENCY','PROPERTY_TYPE','BUILT_FORM','INSPECTION_DATE','LODGEMENT_DATE',\n",
    "            'COUNTY','TRANSACTION_TYPE',\n",
    "            'ENERGY_CONSUMPTION_CURRENT','CO2_EMISSIONS_CURRENT','CO2_EMISS_CURR_PER_FLOOR_AREA',\n",
    "            'LIGHTING_COST_CURRENT','HEATING_COST_CURRENT','HOT_WATER_COST_CURRENT','TOTAL_FLOOR_AREA',\n",
    "            'ENERGY_TARIFF','MAINS_GAS_FLAG','FLOOR_LEVEL','FLAT_TOP_STOREY','FLAT_STOREY_COUNT',\n",
    "            'MAIN_HEATING_CONTROLS','MULTI_GLAZE_PROPORTION','GLAZED_TYPE','EXTENSION_COUNT','NUMBER_HABITABLE_ROOMS',\n",
    "            'NUMBER_HEATED_ROOMS','LOW_ENERGY_LIGHTING','NUMBER_OPEN_FIREPLACES','HOTWATER_DESCRIPTION',\n",
    "            'HOT_WATER_ENERGY_EFF','HOT_WATER_ENV_EFF','FLOOR_DESCRIPTION','FLOOR_ENERGY_EFF','FLOOR_ENV_EFF',\n",
    "            'WINDOWS_DESCRIPTION','WINDOWS_ENERGY_EFF','WINDOWS_ENV_EFF','WALLS_DESCRIPTION','WALLS_ENERGY_EFF',\n",
    "            'WALLS_ENV_EFF','SECONDHEAT_DESCRIPTION','SHEATING_ENERGY_EFF','SHEATING_ENV_EFF','ROOF_DESCRIPTION',\n",
    "            'ROOF_ENERGY_EFF','ROOF_ENV_EFF','MAINHEAT_ENERGY_EFF','MAINHEAT_ENV_EFF','MAINHEATCONT_DESCRIPTION',\n",
    "            'MAINHEATC_ENERGY_EFF','MAINHEATC_ENV_EFF','LIGHTING_DESCRIPTION','LIGHTING_ENERGY_EFF','LIGHTING_ENV_EFF',\n",
    "            'MAIN_FUEL','HEAT_LOSS_CORRIDOOR','UNHEATED_CORRIDOR_LENGTH','FLOOR_HEIGHT','SOLAR_WATER_HEATING_FLAG',\n",
    "            'MECHANICAL_VENTILATION']\n",
    "\n",
    "region_list = ['Isle of Anglesey','Blaenau Gwent','Bridgend','Caerphilly','Cardiff','Carmarthenshire',\n",
    "'Ceredigion','Conwy','Debighshire','Flintshire','Gwynedd','Merthyr Tydfil','Monmouthshire',\n",
    "'Neath Port Talbot','Newport','Powys','Pembrokeshire','Rhondda Cynon Taf','Swansea','Torfaen',\n",
    "'Vale of Glamorgan','Wrexham']\n",
    "\n",
    "epc_wales = epc_full.loc[epc_full['region'].isin(region_list),var_list]"
   ]
  },
  {
   "cell_type": "code",
   "execution_count": 5,
   "metadata": {},
   "outputs": [],
   "source": [
    "# remove records with dodgy postcodes, these originate form the unknown_certificates file\n",
    "epc_wales = epc_wales[epc_wales['POSTCODE'] != 'XX0 0XX']"
   ]
  },
  {
   "cell_type": "code",
   "execution_count": 6,
   "metadata": {},
   "outputs": [
    {
     "data": {
      "text/plain": [
       "805772"
      ]
     },
     "execution_count": 6,
     "metadata": {},
     "output_type": "execute_result"
    }
   ],
   "source": [
    "len(epc_wales)"
   ]
  },
  {
   "cell_type": "code",
   "execution_count": 7,
   "metadata": {},
   "outputs": [
    {
     "data": {
      "text/plain": [
       "D           311744\n",
       "C           193012\n",
       "E           166845\n",
       "F            55780\n",
       "B            55131\n",
       "G            21995\n",
       "A             1251\n",
       "INVALID!        14\n",
       "Name: CURRENT_ENERGY_RATING, dtype: int64"
      ]
     },
     "execution_count": 7,
     "metadata": {},
     "output_type": "execute_result"
    }
   ],
   "source": [
    "# show split across bands\n",
    "epc_wales['CURRENT_ENERGY_RATING'].value_counts()"
   ]
  },
  {
   "cell_type": "code",
   "execution_count": 8,
   "metadata": {},
   "outputs": [
    {
     "data": {
      "image/png": "[encoded data removed]",
      "text/plain": [
       "<Figure size 432x288 with 1 Axes>"
      ]
     },
     "metadata": {
      "needs_background": "light"
     },
     "output_type": "display_data"
    }
   ],
   "source": [
    "epc_wales['CURRENT_ENERGY_EFFICIENCY'].hist(bins=50,range=(0,100))\n",
    "plt.show()"
   ]
  },
  {
   "cell_type": "code",
   "execution_count": 9,
   "metadata": {},
   "outputs": [
    {
     "data": {
      "text/plain": [
       "184"
      ]
     },
     "execution_count": 9,
     "metadata": {},
     "output_type": "execute_result"
    }
   ],
   "source": [
    "# Shouldn't be above 100 gets capped later in the process\n",
    "epc_wales['CURRENT_ENERGY_EFFICIENCY'].max()"
   ]
  },
  {
   "cell_type": "code",
   "execution_count": 11,
   "metadata": {},
   "outputs": [],
   "source": [
    "# Capping for purposes of plotting distributions\n",
    "epc_capped = epc_wales[epc_wales.CURRENT_ENERGY_EFFICIENCY <= 100]"
   ]
  },
  {
   "cell_type": "code",
   "execution_count": 12,
   "metadata": {},
   "outputs": [
    {
     "data": {
      "image/png": "[encoded data removed]",
      "text/plain": [
       "<Figure size 1440x360 with 7 Axes>"
      ]
     },
     "metadata": {
      "needs_background": "light"
     },
     "output_type": "display_data"
    }
   ],
   "source": [
    "# plot distribution per band\n",
    "plt.figure(figsize=(20,5))\n",
    "\n",
    "epc_bands_G = epc_capped[epc_capped.CURRENT_ENERGY_RATING == 'G']\n",
    "plt.subplot(241)\n",
    "bins_G = len(epc_bands_G['CURRENT_ENERGY_EFFICIENCY'].unique())\n",
    "epc_bands_G['CURRENT_ENERGY_EFFICIENCY'].hist(bins=bins_G)\n",
    "plt.xlabel('G',fontsize=16, weight='bold')\n",
    "\n",
    "epc_bands_F = epc_capped[epc_capped.CURRENT_ENERGY_RATING == 'F']\n",
    "plt.subplot(242)\n",
    "bins_F = len(epc_bands_F['CURRENT_ENERGY_EFFICIENCY'].unique())\n",
    "epc_bands_F['CURRENT_ENERGY_EFFICIENCY'].hist(bins=bins_F)\n",
    "plt.xlabel('F',fontsize=16, weight='bold')\n",
    "\n",
    "epc_bands_E = epc_capped[epc_capped.CURRENT_ENERGY_RATING == 'E']\n",
    "plt.subplot(243)\n",
    "bins_E = len(epc_bands_E['CURRENT_ENERGY_EFFICIENCY'].unique())\n",
    "epc_bands_E['CURRENT_ENERGY_EFFICIENCY'].hist(bins=bins_E)\n",
    "plt.xlabel('E',fontsize=16, weight='bold')\n",
    "\n",
    "epc_bands_D = epc_capped[epc_capped.CURRENT_ENERGY_RATING == 'D']\n",
    "plt.subplot(244)\n",
    "bins_D = len(epc_bands_D['CURRENT_ENERGY_EFFICIENCY'].unique())\n",
    "epc_bands_D['CURRENT_ENERGY_EFFICIENCY'].hist(bins=bins_D)\n",
    "plt.xlabel('D',fontsize=16, weight='bold')\n",
    "\n",
    "epc_bands_C = epc_capped[epc_capped.CURRENT_ENERGY_RATING == 'C']\n",
    "plt.subplot(245)\n",
    "bins_C = len(epc_bands_C['CURRENT_ENERGY_EFFICIENCY'].unique())\n",
    "epc_bands_C['CURRENT_ENERGY_EFFICIENCY'].hist(bins=bins_C)\n",
    "plt.xlabel('C',fontsize=16, weight='bold')\n",
    "\n",
    "epc_bands_B = epc_capped[epc_capped.CURRENT_ENERGY_RATING == 'B']\n",
    "plt.subplot(246)\n",
    "bins_B = len(epc_bands_B['CURRENT_ENERGY_EFFICIENCY'].unique())\n",
    "epc_bands_B['CURRENT_ENERGY_EFFICIENCY'].hist(bins=bins_B)\n",
    "plt.xlabel('B',fontsize=16, weight='bold')\n",
    "\n",
    "epc_bands_A = epc_capped[epc_capped.CURRENT_ENERGY_RATING == 'A']\n",
    "plt.subplot(247)\n",
    "bins_A = len(epc_bands_A['CURRENT_ENERGY_EFFICIENCY'].unique())\n",
    "epc_bands_A['CURRENT_ENERGY_EFFICIENCY'].hist(bins=bins_A)\n",
    "plt.xlabel('A',fontsize=16, weight='bold')\n",
    "\n",
    "plt.tight_layout()"
   ]
  },
  {
   "cell_type": "markdown",
   "metadata": {},
   "source": [
    "### Imputing missing values\n",
    "\n",
    "For values which do not change often over time such as BUILT_FORM (detached, terraced etc), it's safe to use the data from previous certificates where available to fill the missing values in more recent certificates."
   ]
  },
  {
   "cell_type": "code",
   "execution_count": 13,
   "metadata": {},
   "outputs": [
    {
     "data": {
      "text/plain": [
       "805772"
      ]
     },
     "execution_count": 13,
     "metadata": {},
     "output_type": "execute_result"
    }
   ],
   "source": [
    "len(epc_wales)"
   ]
  },
  {
   "cell_type": "code",
   "execution_count": 14,
   "metadata": {},
   "outputs": [],
   "source": [
    "# It's only necessary to do this for properties with more than one certificate\n",
    "epc_wales_grouped = epc_wales.groupby(['BUILDING_REFERENCE_NUMBER'], as_index=False)['INSPECTION_DATE'].count()\n",
    "epc_wales_grouped_2plus = epc_wales_grouped[epc_wales_grouped['INSPECTION_DATE'] > 1]\n",
    "epc_wales_2plus = epc_wales.merge(epc_wales_grouped_2plus[['BUILDING_REFERENCE_NUMBER']], on = 'BUILDING_REFERENCE_NUMBER', how = 'inner')"
   ]
  },
  {
   "cell_type": "code",
   "execution_count": 15,
   "metadata": {},
   "outputs": [
    {
     "name": "stdout",
     "output_type": "stream",
     "text": [
      "BUILT_FORM\n",
      "MAINS_GAS_FLAG\n",
      "FLOOR_LEVEL\n",
      "NUMBER_HABITABLE_ROOMS\n",
      "FLOOR_DESCRIPTION\n",
      "ROOF_DESCRIPTION\n",
      "HEAT_LOSS_CORRIDOOR\n",
      "WALLS_DESCRIPTION\n",
      "FLOOR_HEIGHT\n"
     ]
    }
   ],
   "source": [
    "# note this takes a while\n",
    "fill_columns = ['BUILT_FORM','MAINS_GAS_FLAG','FLOOR_LEVEL','NUMBER_HABITABLE_ROOMS','FLOOR_DESCRIPTION',\n",
    "                'ROOF_DESCRIPTION','HEAT_LOSS_CORRIDOOR','WALLS_DESCRIPTION','FLOOR_HEIGHT']\n",
    "\n",
    "for c in fill_columns:\n",
    "    print(c)\n",
    "    epc_wales_2plus[c] = epc_wales_2plus.groupby(['BUILDING_REFERENCE_NUMBER'], sort=False)[c].apply(lambda x: x.ffill())"
   ]
  },
  {
   "cell_type": "code",
   "execution_count": 16,
   "metadata": {},
   "outputs": [],
   "source": [
    "epc_wales_grouped_1 = epc_wales_grouped[epc_wales_grouped['INSPECTION_DATE'] == 1]\n",
    "epc_wales_1 = epc_wales.merge(epc_wales_grouped_1[['BUILDING_REFERENCE_NUMBER']], on = 'BUILDING_REFERENCE_NUMBER', how = 'inner')"
   ]
  },
  {
   "cell_type": "code",
   "execution_count": 17,
   "metadata": {},
   "outputs": [],
   "source": [
    "# merging filled data for buildings with more than one certificate with data for buildings with only one certificate\n",
    "epc_filled = pd.concat([epc_wales_1,epc_wales_2plus])"
   ]
  },
  {
   "cell_type": "code",
   "execution_count": 18,
   "metadata": {},
   "outputs": [
    {
     "data": {
      "text/plain": [
       "805772"
      ]
     },
     "execution_count": 18,
     "metadata": {},
     "output_type": "execute_result"
    }
   ],
   "source": [
    "# checking length of filled data\n",
    "len(epc_filled)"
   ]
  },
  {
   "cell_type": "code",
   "execution_count": 19,
   "metadata": {},
   "outputs": [
    {
     "data": {
      "image/png": "[encoded data removed]",
      "text/plain": [
       "<Figure size 1440x360 with 7 Axes>"
      ]
     },
     "metadata": {
      "needs_background": "light"
     },
     "output_type": "display_data"
    }
   ],
   "source": [
    "# plotting distribution of filled data for each band. Shouldn't have changed\n",
    "epc_capped = epc_filled[epc_filled.CURRENT_ENERGY_EFFICIENCY <= 100]\n",
    "\n",
    "# plot distribution per band\n",
    "plt.figure(figsize=(20,5))\n",
    "\n",
    "epc_bands_G = epc_capped[epc_capped.CURRENT_ENERGY_RATING == 'G']\n",
    "plt.subplot(241)\n",
    "bins_G = len(epc_bands_G['CURRENT_ENERGY_EFFICIENCY'].unique())\n",
    "epc_bands_G['CURRENT_ENERGY_EFFICIENCY'].hist(bins=bins_G)\n",
    "plt.xlabel('G',fontsize=16, weight='bold')\n",
    "\n",
    "epc_bands_F = epc_capped[epc_capped.CURRENT_ENERGY_RATING == 'F']\n",
    "plt.subplot(242)\n",
    "bins_F = len(epc_bands_F['CURRENT_ENERGY_EFFICIENCY'].unique())\n",
    "epc_bands_F['CURRENT_ENERGY_EFFICIENCY'].hist(bins=bins_F)\n",
    "plt.xlabel('F',fontsize=16, weight='bold')\n",
    "\n",
    "epc_bands_E = epc_capped[epc_capped.CURRENT_ENERGY_RATING == 'E']\n",
    "plt.subplot(243)\n",
    "bins_E = len(epc_bands_E['CURRENT_ENERGY_EFFICIENCY'].unique())\n",
    "epc_bands_E['CURRENT_ENERGY_EFFICIENCY'].hist(bins=bins_E)\n",
    "plt.xlabel('E',fontsize=16, weight='bold')\n",
    "\n",
    "epc_bands_D = epc_capped[epc_capped.CURRENT_ENERGY_RATING == 'D']\n",
    "plt.subplot(244)\n",
    "bins_D = len(epc_bands_D['CURRENT_ENERGY_EFFICIENCY'].unique())\n",
    "epc_bands_D['CURRENT_ENERGY_EFFICIENCY'].hist(bins=bins_D)\n",
    "plt.xlabel('D',fontsize=16, weight='bold')\n",
    "\n",
    "epc_bands_C = epc_capped[epc_capped.CURRENT_ENERGY_RATING == 'C']\n",
    "plt.subplot(245)\n",
    "bins_C = len(epc_bands_C['CURRENT_ENERGY_EFFICIENCY'].unique())\n",
    "epc_bands_C['CURRENT_ENERGY_EFFICIENCY'].hist(bins=bins_C)\n",
    "plt.xlabel('C',fontsize=16, weight='bold')\n",
    "\n",
    "epc_bands_B = epc_capped[epc_capped.CURRENT_ENERGY_RATING == 'B']\n",
    "plt.subplot(246)\n",
    "bins_B = len(epc_bands_B['CURRENT_ENERGY_EFFICIENCY'].unique())\n",
    "epc_bands_B['CURRENT_ENERGY_EFFICIENCY'].hist(bins=bins_B)\n",
    "plt.xlabel('B',fontsize=16, weight='bold')\n",
    "\n",
    "epc_bands_A = epc_capped[epc_capped.CURRENT_ENERGY_RATING == 'A']\n",
    "plt.subplot(247)\n",
    "bins_A = len(epc_bands_A['CURRENT_ENERGY_EFFICIENCY'].unique())\n",
    "epc_bands_A['CURRENT_ENERGY_EFFICIENCY'].hist(bins=bins_A)\n",
    "plt.xlabel('A',fontsize=16, weight='bold')\n",
    "\n",
    "plt.tight_layout()"
   ]
  },
  {
   "cell_type": "markdown",
   "metadata": {},
   "source": [
    "### Deduping by taking latest record\n",
    "\n",
    "Some properties have multiple EPC, we only want to keep one per inspection data"
   ]
  },
  {
   "cell_type": "code",
   "execution_count": 20,
   "metadata": {},
   "outputs": [
    {
     "data": {
      "text/plain": [
       "15013"
      ]
     },
     "execution_count": 20,
     "metadata": {},
     "output_type": "execute_result"
    }
   ],
   "source": [
    "len(epc_filled[epc_filled.duplicated(subset=['BUILDING_REFERENCE_NUMBER','INSPECTION_DATE'])])"
   ]
  },
  {
   "cell_type": "code",
   "execution_count": 21,
   "metadata": {},
   "outputs": [],
   "source": [
    "# First take just the latest lodegment date\n",
    "epc_filled.sort_values(by = ['BUILDING_REFERENCE_NUMBER','INSPECTION_DATE','LODGEMENT_DATE'],inplace=True)\n",
    "epc_filled.drop_duplicates(subset=(['BUILDING_REFERENCE_NUMBER','INSPECTION_DATE']),keep='last',inplace=True)"
   ]
  },
  {
   "cell_type": "code",
   "execution_count": 22,
   "metadata": {},
   "outputs": [
    {
     "data": {
      "text/plain": [
       "0"
      ]
     },
     "execution_count": 22,
     "metadata": {},
     "output_type": "execute_result"
    }
   ],
   "source": [
    "len(epc_filled[epc_filled.duplicated(subset=['BUILDING_REFERENCE_NUMBER','INSPECTION_DATE'])])"
   ]
  },
  {
   "cell_type": "markdown",
   "metadata": {},
   "source": [
    "### Split in to train and test - 80% split\n",
    "\n",
    "Splitting the train and test data before any further manipulation"
   ]
  },
  {
   "cell_type": "code",
   "execution_count": 23,
   "metadata": {},
   "outputs": [],
   "source": [
    "epc_filled = shuffle(epc_filled)\n",
    "epc_filled.reset_index(drop=True)\n",
    "epc_train, epc_test = train_test_split(epc_filled, test_size = 0.2, random_state = 1234)"
   ]
  },
  {
   "cell_type": "code",
   "execution_count": 24,
   "metadata": {},
   "outputs": [
    {
     "name": "stdout",
     "output_type": "stream",
     "text": [
      "D           0.387016\n",
      "C           0.240932\n",
      "E           0.206412\n",
      "B           0.068702\n",
      "F           0.068676\n",
      "G           0.026695\n",
      "A           0.001552\n",
      "INVALID!    0.000016\n",
      "Name: CURRENT_ENERGY_RATING, dtype: float64\n",
      "D           0.387340\n",
      "C           0.240962\n",
      "E           0.206100\n",
      "B           0.068757\n",
      "F           0.068684\n",
      "G           0.026650\n",
      "A           0.001495\n",
      "INVALID!    0.000013\n",
      "Name: CURRENT_ENERGY_RATING, dtype: float64\n",
      "D           0.385718\n",
      "C           0.240813\n",
      "E           0.207661\n",
      "F           0.068643\n",
      "B           0.068485\n",
      "G           0.026873\n",
      "A           0.001777\n",
      "INVALID!    0.000032\n",
      "Name: CURRENT_ENERGY_RATING, dtype: float64\n",
      "count    790759.000000\n",
      "mean         59.810562\n",
      "std          15.916417\n",
      "min           0.000000\n",
      "25%          52.000000\n",
      "50%          62.000000\n",
      "75%          71.000000\n",
      "max         184.000000\n",
      "Name: CURRENT_ENERGY_EFFICIENCY, dtype: float64\n",
      "count    632607.000000\n",
      "mean         59.817269\n",
      "std          15.909328\n",
      "min           0.000000\n",
      "25%          52.000000\n",
      "50%          62.000000\n",
      "75%          71.000000\n",
      "max         184.000000\n",
      "Name: CURRENT_ENERGY_EFFICIENCY, dtype: float64\n",
      "count    158152.000000\n",
      "mean         59.783733\n",
      "std          15.944762\n",
      "min           0.000000\n",
      "25%          52.000000\n",
      "50%          62.000000\n",
      "75%          71.000000\n",
      "max         174.000000\n",
      "Name: CURRENT_ENERGY_EFFICIENCY, dtype: float64\n"
     ]
    }
   ],
   "source": [
    "#Check the distribution of the categorical target\n",
    "print(epc_filled['CURRENT_ENERGY_RATING'].value_counts(normalize = True))\n",
    "print(epc_train['CURRENT_ENERGY_RATING'].value_counts(normalize = True))\n",
    "print(epc_test['CURRENT_ENERGY_RATING'].value_counts(normalize = True))\n",
    "\n",
    "#Check the stats of the numerc target\n",
    "print(epc_filled['CURRENT_ENERGY_EFFICIENCY'].describe())\n",
    "print(epc_train['CURRENT_ENERGY_EFFICIENCY'].describe())\n",
    "print(epc_test['CURRENT_ENERGY_EFFICIENCY'].describe())"
   ]
  },
  {
   "cell_type": "code",
   "execution_count": 25,
   "metadata": {},
   "outputs": [
    {
     "data": {
      "text/plain": [
       "632607"
      ]
     },
     "execution_count": 25,
     "metadata": {},
     "output_type": "execute_result"
    }
   ],
   "source": [
    "len(epc_train[epc_train.isnull()])"
   ]
  },
  {
   "cell_type": "markdown",
   "metadata": {},
   "source": [
    "### Clean up"
   ]
  },
  {
   "cell_type": "code",
   "execution_count": 26,
   "metadata": {},
   "outputs": [],
   "source": [
    "# replace 'NO DATA!', 'not defined' and 'not recored' with null\n",
    "epc_train = epc_train.replace(['NO DATA!','NODATA!'],np.nan)\n",
    "epc_train = epc_train.replace(['not recorded','not defined','unknown','Unknown','Not defined','Not recorded'],np.nan)\n",
    "epc_train = epc_train.replace(['N/A','n/a'],np.nan)\n",
    "# replace any values starting sap as these are the column headers not real data\n",
    "epc_train = epc_train.replace([r'^SAP.*',r'^sap.*'],np.nan,regex=True)\n",
    "# replace '+ Chr(13) +' as it's meaningless\n",
    "epc_train = epc_train.replace([r\"\\+ Chr\\(13\\) \\+\",r\"\\+ chr\\(13\\) \\+\"],'+', regex=True)\n",
    "epc_train = epc_train.replace([r\"\\+ Chr\\(13\\) \\+\",r\"\\+ chr\\(13\\) \\+\"],'+', regex=True)"
   ]
  },
  {
   "cell_type": "code",
   "execution_count": 27,
   "metadata": {},
   "outputs": [],
   "source": [
    "# replace 'NO DATA!', 'not defined' and 'not recored' with null\n",
    "epc_test = epc_test.replace(['NO DATA!','NODATA!'],np.nan)\n",
    "epc_test = epc_test.replace(['not recorded','not defined','unknown','Unknown','Not defined','Not recorded'],np.nan)\n",
    "epc_test = epc_test.replace(['N/A','n/a'],np.nan)\n",
    "# replace any values starting sap as these are the column headers not real data\n",
    "epc_test = epc_test.replace([r'^SAP.*',r'^sap.*'],np.nan,regex=True)\n",
    "# replace '+ Chr(13) +' as it's meaningless\n",
    "epc_test = epc_test.replace([r\"\\+ Chr\\(13\\) \\+\",r\"\\+ chr\\(13\\) \\+\"],'+', regex=True)"
   ]
  },
  {
   "cell_type": "code",
   "execution_count": 28,
   "metadata": {},
   "outputs": [],
   "source": [
    "# replacing values in columns which are actually just the column header\n",
    "replacement_dict = {'HOTWATER_DESCRIPTION':{r'^Hot-Water$':np.nan},'FLOOR_DESCRIPTION':{r'^Floor$':np.nan},\n",
    "'WALLS_DESCRIPTION':{r'^Wall$':np.nan},'WINDOWS_DESCRIPTION':{r'^Window$':np.nan},'ROOF_DESCRIPTION':{r'^Roof$':np.nan},\n",
    "'MAIN_HEATING_CONTROLS':{r'^Main-Heating-Controls$':np.nan},'SECONDHEAT_DESCRIPTION':{r'^Secondary-Heating$':np.nan},\n",
    "'LIGHTING_DESCRIPTION':{r'^Lighting$':np.nan},'MAINHEATCONT_DESCRIPTION':{r'^Main-Heating-Controls$':np.nan}}\n",
    "\n",
    "epc_train = epc_train.replace(replacement_dict,regex=True)\n",
    "epc_test = epc_test.replace(replacement_dict,regex=True)"
   ]
  },
  {
   "cell_type": "markdown",
   "metadata": {},
   "source": [
    "### Export Data"
   ]
  },
  {
   "cell_type": "code",
   "execution_count": null,
   "metadata": {},
   "outputs": [],
   "source": [
    "epc_train.to_csv(os.path.join(processing_path,epc_train_fname),index = False)\n",
    "epc_test.to_csv(os.path.join(processing_path,epc_test_fname),index = False)\n",
    "epc_wales.to_csv(processing_path + epc_wales_fname, index=False)"
   ]
  }
 ],
 "metadata": {
  "kernelspec": {
   "display_name": "Python 3",
   "language": "python",
   "name": "python3"
  },
  "language_info": {
   "codemirror_mode": {
    "name": "ipython",
    "version": 3
   },
   "file_extension": ".py",
   "mimetype": "text/x-python",
   "name": "python",
   "nbconvert_exporter": "python",
   "pygments_lexer": "ipython3",
   "version": "3.7.4"
  }
 },
 "nbformat": 4,
 "nbformat_minor": 2
}
