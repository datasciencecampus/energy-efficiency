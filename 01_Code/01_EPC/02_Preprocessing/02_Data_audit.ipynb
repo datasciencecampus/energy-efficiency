{
 "cells": [
  {
   "cell_type": "markdown",
   "metadata": {},
   "source": [
    "# Data Audit"
   ]
  },
  {
   "cell_type": "markdown",
   "metadata": {},
   "source": [
    "This script takes an audit of the EPC data for Wales. It looks at how many missing values each feature has, how many unique values the categorical features have then applies preprocessing steps to remove outliers and drop features with too many missing values."
   ]
  },
  {
   "cell_type": "code",
   "execution_count": 1,
   "metadata": {},
   "outputs": [],
   "source": [
    "import numpy as np\n",
    "import pandas as pd\n",
    "import os\n",
    "import json\n",
    "import matplotlib.pyplot as plt"
   ]
  },
  {
   "cell_type": "code",
   "execution_count": 2,
   "metadata": {},
   "outputs": [],
   "source": [
    "# set variables from config file\n",
    "config_path = os.path.abspath('..')[:-7]\n",
    "\n",
    "with open(config_path + '/config.json', 'r') as f:\n",
    "    config = json.load(f)\n",
    "\n",
    "processing_path = config['DEFAULT']['processing_path']\n",
    "epc_wales_fname = config['DEFAULT']['epc_wales_fname']\n",
    "epc_train_fname = config['DEFAULT']['epc_train_fname']\n",
    "epc_test_fname = config['DEFAULT']['epc_test_fname']"
   ]
  },
  {
   "cell_type": "code",
   "execution_count": 3,
   "metadata": {},
   "outputs": [],
   "source": [
    "#Specify ther import dictionary for the dates\n",
    "dtype_dict = {'INSPECTION_DATE':'str'}\n",
    "\n",
    "epc_train = pd.read_csv(os.path.join(processing_path,epc_train_fname), header = 0, delimiter = ',', \n",
    "                       dtype = dtype_dict, parse_dates = ['INSPECTION_DATE'])\n",
    "\n",
    "epc_test = pd.read_csv(os.path.join(processing_path,epc_test_fname),header = 0, delimiter = ',',\n",
    "                        dtype = dtype_dict, parse_dates = ['INSPECTION_DATE'])"
   ]
  },
  {
   "cell_type": "code",
   "execution_count": 22,
   "metadata": {},
   "outputs": [],
   "source": [
    "epc_train['inspection_year'] = epc_train['INSPECTION_DATE'].dt.year"
   ]
  },
  {
   "cell_type": "code",
   "execution_count": 24,
   "metadata": {},
   "outputs": [
    {
     "data": {
      "text/plain": [
       "2013    0.142041\n",
       "2014    0.141789\n",
       "2009    0.133969\n",
       "2015    0.112991\n",
       "2011    0.108753\n",
       "2010    0.099550\n",
       "2012    0.096038\n",
       "2008    0.093646\n",
       "2016    0.070897\n",
       "2007    0.000272\n",
       "2006    0.000044\n",
       "2001    0.000003\n",
       "2005    0.000002\n",
       "2004    0.000002\n",
       "2003    0.000002\n",
       "2000    0.000002\n",
       "Name: inspection_year, dtype: float64"
      ]
     },
     "execution_count": 24,
     "metadata": {},
     "output_type": "execute_result"
    }
   ],
   "source": [
    "epc_train['inspection_year'].value_counts(normalize=True)"
   ]
  },
  {
   "cell_type": "code",
   "execution_count": 4,
   "metadata": {},
   "outputs": [
    {
     "name": "stdout",
     "output_type": "stream",
     "text": [
      "632607\n",
      "158152\n"
     ]
    }
   ],
   "source": [
    "print(len(epc_train))\n",
    "print(len(epc_test))"
   ]
  },
  {
   "cell_type": "markdown",
   "metadata": {},
   "source": [
    "### Investigate categoric and numeric fields"
   ]
  },
  {
   "cell_type": "code",
   "execution_count": 5,
   "metadata": {},
   "outputs": [],
   "source": [
    "# Get numeric and categorical variable names \n",
    "var_list_num = epc_train.select_dtypes(include= 'number').columns.tolist()\n",
    "\n",
    "var_list_cat = epc_train.select_dtypes(include= ['object','category']).columns.tolist()\n",
    "var_list_cat.remove('LMK_KEY')\n",
    "var_list_cat.remove('POSTCODE')"
   ]
  },
  {
   "cell_type": "code",
   "execution_count": 6,
   "metadata": {},
   "outputs": [
    {
     "data": {
      "text/plain": [
       "COUNTY                           1.000000\n",
       "FLAT_STOREY_COUNT                0.920668\n",
       "UNHEATED_CORRIDOR_LENGTH         0.916084\n",
       "FLOOR_HEIGHT                     0.458915\n",
       "MULTI_GLAZE_PROPORTION           0.127310\n",
       "NUMBER_HEATED_ROOMS              0.088380\n",
       "EXTENSION_COUNT                  0.088380\n",
       "NUMBER_HABITABLE_ROOMS           0.086953\n",
       "NUMBER_OPEN_FIREPLACES           0.085348\n",
       "LOW_ENERGY_LIGHTING              0.063464\n",
       "CO2_EMISSIONS_CURRENT            0.000000\n",
       "CURRENT_ENERGY_EFFICIENCY        0.000000\n",
       "ENERGY_CONSUMPTION_CURRENT       0.000000\n",
       "TOTAL_FLOOR_AREA                 0.000000\n",
       "CO2_EMISS_CURR_PER_FLOOR_AREA    0.000000\n",
       "LIGHTING_COST_CURRENT            0.000000\n",
       "HEATING_COST_CURRENT             0.000000\n",
       "HOT_WATER_COST_CURRENT           0.000000\n",
       "BUILDING_REFERENCE_NUMBER        0.000000\n",
       "dtype: float64"
      ]
     },
     "execution_count": 6,
     "metadata": {},
     "output_type": "execute_result"
    }
   ],
   "source": [
    "# Percentage of missing values in numeric fields\n",
    "epc_train[var_list_num].isnull().sum().sort_values(ascending = False) / epc_train.shape[0]"
   ]
  },
  {
   "cell_type": "markdown",
   "metadata": {},
   "source": [
    "Drop COUNTY, FLAT_STOREY_COUNT AND UNHEATED_CORRIDOR_LENGTH due to high percentage of \n",
    "missing values. Keep FLOOR_HEIGHT but be careful"
   ]
  },
  {
   "cell_type": "code",
   "execution_count": 7,
   "metadata": {},
   "outputs": [],
   "source": [
    "audit_num = epc_train[var_list_num].describe(percentiles = [0.25,0.5,0.75,0.9,0.95,0.99])"
   ]
  },
  {
   "cell_type": "markdown",
   "metadata": {},
   "source": [
    "We have some negative values and some massively large\n",
    "\n",
    "Clip all below 0\n",
    "\n",
    "Clip all at the 95th percentile with the exception of the following"
   ]
  },
  {
   "cell_type": "code",
   "execution_count": 8,
   "metadata": {},
   "outputs": [
    {
     "data": {
      "text/plain": [
       "SHEATING_ENERGY_EFF         0.987942\n",
       "SHEATING_ENV_EFF            0.987942\n",
       "FLOOR_ENERGY_EFF            0.943562\n",
       "FLOOR_ENV_EFF               0.943562\n",
       "HEAT_LOSS_CORRIDOOR         0.834324\n",
       "FLAT_TOP_STOREY             0.834324\n",
       "FLOOR_LEVEL                 0.816509\n",
       "SOLAR_WATER_HEATING_FLAG    0.511483\n",
       "GLAZED_TYPE                 0.126036\n",
       "ROOF_ENERGY_EFF             0.108116\n",
       "ROOF_ENV_EFF                0.108116\n",
       "MAINS_GAS_FLAG              0.089397\n",
       "MECHANICAL_VENTILATION      0.088380\n",
       "ENERGY_TARIFF               0.072122\n",
       "TRANSACTION_TYPE            0.051751\n",
       "BUILT_FORM                  0.035211\n",
       "MAIN_FUEL                   0.021266\n",
       "SECONDHEAT_DESCRIPTION      0.015074\n",
       "HOT_WATER_ENV_EFF           0.014831\n",
       "MAINHEATCONT_DESCRIPTION    0.014696\n",
       "MAIN_HEATING_CONTROLS       0.014696\n",
       "HOTWATER_DESCRIPTION        0.014535\n",
       "HOT_WATER_ENERGY_EFF        0.014186\n",
       "ROOF_DESCRIPTION            0.013310\n",
       "WALLS_DESCRIPTION           0.013264\n",
       "FLOOR_DESCRIPTION           0.013221\n",
       "WINDOWS_DESCRIPTION         0.013182\n",
       "LIGHTING_DESCRIPTION        0.013180\n",
       "LIGHTING_ENV_EFF            0.012537\n",
       "LIGHTING_ENERGY_EFF         0.012537\n",
       "WALLS_ENV_EFF               0.011372\n",
       "WALLS_ENERGY_EFF            0.011372\n",
       "MAINHEAT_ENV_EFF            0.010220\n",
       "MAINHEAT_ENERGY_EFF         0.008470\n",
       "MAINHEATC_ENERGY_EFF        0.008127\n",
       "MAINHEATC_ENV_EFF           0.008127\n",
       "WINDOWS_ENV_EFF             0.006184\n",
       "WINDOWS_ENERGY_EFF          0.006184\n",
       "LODGEMENT_DATE              0.000000\n",
       "PROPERTY_TYPE               0.000000\n",
       "CURRENT_ENERGY_RATING       0.000000\n",
       "region                      0.000000\n",
       "dtype: float64"
      ]
     },
     "execution_count": 8,
     "metadata": {},
     "output_type": "execute_result"
    }
   ],
   "source": [
    "# Percentage of missing values in categoric fields\n",
    "epc_train[var_list_cat].isnull().sum().sort_values(ascending = False) / epc_train.shape[0]"
   ]
  },
  {
   "cell_type": "markdown",
   "metadata": {},
   "source": [
    "Drop SHEATING_ENERGY_EFF, SHEATING_ENV_EFF, FLOOR_ENV_EFF, FLAT_TOP_STOREY, FLOOR_ENERGY_EFF\n",
    "and SOLAR_WATER_HEATING_FLAG due to percentage of missing values"
   ]
  },
  {
   "cell_type": "code",
   "execution_count": 9,
   "metadata": {},
   "outputs": [
    {
     "data": {
      "text/plain": [
       "LODGEMENT_DATE              3189\n",
       "WALLS_DESCRIPTION            837\n",
       "ROOF_DESCRIPTION             720\n",
       "FLOOR_DESCRIPTION            427\n",
       "LIGHTING_DESCRIPTION         278\n",
       "SECONDHEAT_DESCRIPTION       150\n",
       "HOTWATER_DESCRIPTION         125\n",
       "MAIN_HEATING_CONTROLS         89\n",
       "MAINHEATCONT_DESCRIPTION      89\n",
       "WINDOWS_DESCRIPTION           48\n",
       "MAIN_FUEL                     37\n",
       "FLOOR_LEVEL                   26\n",
       "region                        22\n",
       "TRANSACTION_TYPE              14\n",
       "GLAZED_TYPE                    9\n",
       "ENERGY_TARIFF                  8\n",
       "CURRENT_ENERGY_RATING          8\n",
       "BUILT_FORM                     6\n",
       "HOT_WATER_ENERGY_EFF           5\n",
       "HOT_WATER_ENV_EFF              5\n",
       "PROPERTY_TYPE                  5\n",
       "FLOOR_ENERGY_EFF               5\n",
       "FLOOR_ENV_EFF                  5\n",
       "WINDOWS_ENV_EFF                5\n",
       "WINDOWS_ENERGY_EFF             5\n",
       "ROOF_ENV_EFF                   5\n",
       "LIGHTING_ENV_EFF               5\n",
       "LIGHTING_ENERGY_EFF            5\n",
       "MAINHEATC_ENV_EFF              5\n",
       "MAINHEATC_ENERGY_EFF           5\n",
       "MAINHEAT_ENV_EFF               5\n",
       "MAINHEAT_ENERGY_EFF            5\n",
       "ROOF_ENERGY_EFF                5\n",
       "SHEATING_ENV_EFF               5\n",
       "SHEATING_ENERGY_EFF            5\n",
       "WALLS_ENV_EFF                  5\n",
       "WALLS_ENERGY_EFF               5\n",
       "HEAT_LOSS_CORRIDOOR            3\n",
       "MECHANICAL_VENTILATION         3\n",
       "FLAT_TOP_STOREY                2\n",
       "SOLAR_WATER_HEATING_FLAG       2\n",
       "MAINS_GAS_FLAG                 2\n",
       "dtype: int64"
      ]
     },
     "execution_count": 9,
     "metadata": {},
     "output_type": "execute_result"
    }
   ],
   "source": [
    "audit_cat = epc_train[var_list_cat].describe()\n",
    "epc_train[var_list_cat].nunique().sort_values(ascending = False)"
   ]
  },
  {
   "cell_type": "markdown",
   "metadata": {},
   "source": [
    "We need to reduce the levels"
   ]
  },
  {
   "cell_type": "markdown",
   "metadata": {},
   "source": [
    "### Drop unwanted fields"
   ]
  },
  {
   "cell_type": "code",
   "execution_count": 10,
   "metadata": {},
   "outputs": [],
   "source": [
    "epc_train.drop(['COUNTY','FLAT_STOREY_COUNT','UNHEATED_CORRIDOR_LENGTH','LODGEMENT_DATE',\n",
    "                'SHEATING_ENERGY_EFF','SHEATING_ENV_EFF','FLOOR_ENV_EFF',\n",
    "                'FLAT_TOP_STOREY','FLOOR_ENERGY_EFF','SOLAR_WATER_HEATING_FLAG'],\n",
    "                axis = 1,\n",
    "                inplace = True)\n",
    "\n",
    "epc_test.drop(['COUNTY','FLAT_STOREY_COUNT','UNHEATED_CORRIDOR_LENGTH','LODGEMENT_DATE',\n",
    "               'SHEATING_ENERGY_EFF','SHEATING_ENV_EFF','FLOOR_ENV_EFF',\n",
    "               'FLAT_TOP_STOREY','FLOOR_ENERGY_EFF','SOLAR_WATER_HEATING_FLAG'],\n",
    "               axis = 1,\n",
    "               inplace = True)"
   ]
  },
  {
   "cell_type": "markdown",
   "metadata": {},
   "source": [
    "### Clip training and test datasets"
   ]
  },
  {
   "cell_type": "code",
   "execution_count": 15,
   "metadata": {},
   "outputs": [],
   "source": [
    "def call_clip(df):\n",
    "    \n",
    "    ''' \n",
    "    Clips the variables of the EPC data between 0 and a specified upper amount\n",
    "    Parameters\n",
    "      df: a dataframe containing EPC data specified below\n",
    "    Returns the dataframe with clipped values\n",
    "    '''\n",
    "    \n",
    "    df['CURRENT_ENERGY_EFFICIENCY'].clip(lower = 0.0, upper = 100, inplace = True)\n",
    "    df['ENERGY_CONSUMPTION_CURRENT'].clip(lower = 0.0, upper = 600, inplace = True)\n",
    "    df['CO2_EMISSIONS_CURRENT'].clip(lower = 0.0, upper = 20, inplace = True)\n",
    "    df['CO2_EMISS_CURR_PER_FLOOR_AREA'].clip(lower = 0.0, upper = 100, inplace = True)\n",
    "    df['LIGHTING_COST_CURRENT'].clip(lower = 0.0, upper = 150, inplace = True)\n",
    "    df['HEATING_COST_CURRENT'].clip(lower = 0.0, upper = 1750, inplace = True)\n",
    "    df['HOT_WATER_COST_CURRENT'].clip(lower = 0.0, upper = 350, inplace = True)\n",
    "    df['TOTAL_FLOOR_AREA'].clip(lower = 0.0, upper = 175, inplace = True)\n",
    "    df['MULTI_GLAZE_PROPORTION'].clip(lower = 0.0, upper = 100, inplace = True)\n",
    "    df['EXTENSION_COUNT'].clip(lower = 0.0, upper = 4, inplace = True)\n",
    "    df['NUMBER_HABITABLE_ROOMS'].clip(lower = 0.0, upper = 10, inplace = True)\n",
    "    df['NUMBER_HEATED_ROOMS'].clip(lower = 0.0, upper = 9, inplace = True)\n",
    "    df['LOW_ENERGY_LIGHTING'].clip(lower = 0.0, upper = 100, inplace = True)\n",
    "    df['NUMBER_OPEN_FIREPLACES'].clip(lower = 0.0, upper = 4, inplace = True)\n",
    "    df['FLOOR_HEIGHT'].clip(lower = 0.0, upper = 3, inplace = True)\n",
    "    return(df)\n",
    "\n",
    "epc_train = call_clip(epc_train)\n",
    "epc_test = call_clip(epc_test)"
   ]
  },
  {
   "cell_type": "markdown",
   "metadata": {},
   "source": [
    "### Export datasets"
   ]
  },
  {
   "cell_type": "code",
   "execution_count": 16,
   "metadata": {},
   "outputs": [],
   "source": [
    "epc_train.to_csv(os.path.join(processing_path,epc_train_fname),index = False)\n",
    "epc_test.to_csv(os.path.join(processing_path,epc_test_fname),index = False)"
   ]
  }
 ],
 "metadata": {
  "kernelspec": {
   "display_name": "Python 3",
   "language": "python",
   "name": "python3"
  },
  "language_info": {
   "codemirror_mode": {
    "name": "ipython",
    "version": 3
   },
   "file_extension": ".py",
   "mimetype": "text/x-python",
   "name": "python",
   "nbconvert_exporter": "python",
   "pygments_lexer": "ipython3",
   "version": "3.7.4"
  }
 },
 "nbformat": 4,
 "nbformat_minor": 2
}
