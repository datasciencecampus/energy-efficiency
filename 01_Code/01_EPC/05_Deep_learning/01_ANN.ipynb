{
 "cells": [
  {
   "cell_type": "markdown",
   "metadata": {},
   "source": [
    "# Neural Network (ANN)"
   ]
  },
  {
   "cell_type": "markdown",
   "metadata": {},
   "source": [
    "Five different supervised learning classification models are assessed to understand how well they could predict energy efficiency. Linear regression is selected as the baseline and the variance score (R2) as the quality measure used to assess the models. The other four algorithms are random forest, ada boost, XGBoost and a neural network.\n",
    "\n",
    "This script prepares the data for modelling and can be used to the neural network."
   ]
  },
  {
   "cell_type": "code",
   "execution_count": 1,
   "metadata": {},
   "outputs": [
    {
     "name": "stderr",
     "output_type": "stream",
     "text": [
      "Using TensorFlow backend.\n",
      "/usr/local/lib/python3.7/site-packages/requests/__init__.py:91: RequestsDependencyWarning: urllib3 (1.23) or chardet (2.3.0) doesn't match a supported version!\n",
      "  RequestsDependencyWarning)\n"
     ]
    }
   ],
   "source": [
    "import numpy as np\n",
    "import pandas as pd\n",
    "import datetime\n",
    "import os\n",
    "import glob\n",
    "import json\n",
    "import matplotlib.pyplot as plt\n",
    "import seaborn as sns\n",
    "from keras.models import Sequential\n",
    "from keras.layers import Dense\n",
    "from keras.layers import Dropout\n",
    "from keras.callbacks import EarlyStopping\n",
    "from keras import optimizers\n",
    "from sklearn.metrics import mean_squared_error, r2_score\n",
    "import random\n",
    "from numpy.random import seed"
   ]
  },
  {
   "cell_type": "code",
   "execution_count": 2,
   "metadata": {},
   "outputs": [],
   "source": [
    "# set variables from config file\n",
    "config_path = os.path.abspath('..')[:-7]\n",
    "\n",
    "with open(config_path + '/config.json', 'r') as f:\n",
    "    config = json.load(f)\n",
    "\n",
    "processing_path = config['DEFAULT']['processing_path']\n",
    "epc_train_ex_fname = config['DEFAULT']['epc_train_ex_fname']\n",
    "epc_test_ex_fname = config['DEFAULT']['epc_test_ex_fname']\n",
    "epc_train_do_fname = config['DEFAULT']['epc_train_domain_fname']\n",
    "epc_test_do_fname = config['DEFAULT']['epc_test_domain_fname']\n",
    "epc_train_dd_fname = config['DEFAULT']['epc_train_dd_fname']\n",
    "epc_test_dd_fname = config['DEFAULT']['epc_test_dd_fname']\n",
    "urban_rural_fname = config['DEFAULT']['urban_rural_fname']"
   ]
  },
  {
   "cell_type": "code",
   "execution_count": 3,
   "metadata": {},
   "outputs": [],
   "source": [
    "epc_train_ex = pd.read_csv(os.path.join(processing_path,epc_train_ex_fname),header = 0,delimiter = ',')\n",
    "epc_test_ex = pd.read_csv(os.path.join(processing_path,epc_test_ex_fname),header = 0,delimiter = ',')\n",
    "epc_train_do = pd.read_csv(os.path.join(processing_path,epc_train_do_fname),header = 0,delimiter = ',')\n",
    "epc_test_do = pd.read_csv(os.path.join(processing_path,epc_test_do_fname),header = 0,delimiter = ',')\n",
    "epc_train_dd = pd.read_csv(os.path.join(processing_path,epc_train_dd_fname),header = 0,delimiter = ',')\n",
    "epc_test_dd = pd.read_csv(os.path.join(processing_path,epc_test_dd_fname),header = 0,delimiter = ',')"
   ]
  },
  {
   "cell_type": "code",
   "execution_count": 4,
   "metadata": {},
   "outputs": [
    {
     "data": {
      "text/plain": [
       "Text(0.5, 0, 'epc_test_data_driven')"
      ]
     },
     "execution_count": 4,
     "metadata": {},
     "output_type": "execute_result"
    },
    {
     "data": {
      "image/png": "[encoded data removed]",
      "text/plain": [
       "<Figure size 1440x360 with 6 Axes>"
      ]
     },
     "metadata": {},
     "output_type": "display_data"
    }
   ],
   "source": [
    "# plot distribution for each feature set\n",
    "plt.figure(figsize=(20,5))\n",
    "\n",
    "plt.subplot(231)\n",
    "epc_train_ex['CURRENT_ENERGY_EFFICIENCY'].hist()\n",
    "plt.xlabel('epc_train_exhaustive',fontsize=16, weight='bold')\n",
    "\n",
    "plt.subplot(232)\n",
    "epc_train_do['CURRENT_ENERGY_EFFICIENCY'].hist()\n",
    "plt.xlabel('epc_train_domain',fontsize=16, weight='bold')\n",
    "\n",
    "plt.subplot(233)\n",
    "epc_train_do['CURRENT_ENERGY_EFFICIENCY'].hist()\n",
    "plt.xlabel('epc_train_data_driven',fontsize=16, weight='bold')\n",
    "\n",
    "plt.subplot(234)\n",
    "epc_test_ex['CURRENT_ENERGY_EFFICIENCY'].hist()\n",
    "plt.xlabel('epc_test_exhaustive',fontsize=16, weight='bold')\n",
    "\n",
    "plt.subplot(235)\n",
    "epc_test_do['CURRENT_ENERGY_EFFICIENCY'].hist()\n",
    "plt.xlabel('epc_test_domain',fontsize=16, weight='bold')\n",
    "\n",
    "plt.subplot(236)\n",
    "epc_test_do['CURRENT_ENERGY_EFFICIENCY'].hist()\n",
    "plt.xlabel('epc_test_data_driven',fontsize=16, weight='bold')"
   ]
  },
  {
   "cell_type": "markdown",
   "metadata": {},
   "source": [
    "### process data for selected feature set"
   ]
  },
  {
   "cell_type": "code",
   "execution_count": 7,
   "metadata": {},
   "outputs": [],
   "source": [
    "def process_data_for_modelling(training_data,test_data):\n",
    "    \n",
    "    ''' \n",
    "    Prepares the data for modelling by one hot encoding the categorical features, converting discrete values into\n",
    "    strings and dropping BUILDING_REFERENCE_NUMBER\n",
    "    Parameters\n",
    "      training_data: a dataframe of training data with columns called LODGEMENT_DATE, BUILDING_REFERENCE_NUMBER\n",
    "      test_data: a dataframe of test data with columns called LODGEMENT_DATE, BUILDING_REFERENCE_NUMBER\n",
    "    Returns two dataframes \n",
    "    '''\n",
    "    \n",
    "    training_data['mode'] = 'train'\n",
    "    test_data['mode'] = 'test'\n",
    "    epc = pd.concat([training_data, test_data])\n",
    "    epc = epc.reset_index(drop = True)\n",
    "    \n",
    "    try:\n",
    "        epc.drop(['LODGEMENT_DATE'],axis=1,inplace=True)\n",
    "    except:\n",
    "        pass\n",
    "    \n",
    "    try:\n",
    "    epc['EXTENSION_COUNT'] = epc['EXTENSION_COUNT'].astype('str')\n",
    "    epc['NUMBER_OPEN_FIREPLACES'] = epc['NUMBER_OPEN_FIREPLACES'].astype('str')\n",
    "    except:\n",
    "        pass\n",
    "    \n",
    "    for col in epc.dtypes[epc.dtypes == 'object'].index:\n",
    "        if col not in ['mode']:\n",
    "            print(col)\n",
    "            for_dummy = epc.pop(col)\n",
    "            epc = pd.concat([epc, pd.get_dummies(for_dummy, prefix=col)], axis=1)\n",
    "        \n",
    "    features_to_drop = ['BUILDING_REFERENCE_NUMBER']\n",
    "    epc.drop(features_to_drop,axis=1,inplace=True)\n",
    "    \n",
    "    #Split back into train and test\n",
    "    training_data = epc[epc['mode']=='train']\n",
    "    test_data = epc[epc['mode']=='test']\n",
    "    test_data = test_data.reset_index(drop=True)\n",
    "    inputs_train = training_data.drop('mode',axis=1)\n",
    "    inputs_test = test_data.drop('mode',axis=1)\n",
    "    \n",
    "    return inputs_train, inputs_test"
   ]
  },
  {
   "cell_type": "code",
   "execution_count": 9,
   "metadata": {},
   "outputs": [
    {
     "name": "stdout",
     "output_type": "stream",
     "text": [
      "region\n",
      "PROPERTY_TYPE\n",
      "BUILT_FORM\n",
      "TRANSACTION_TYPE\n",
      "ENERGY_TARIFF\n",
      "MAINS_GAS_FLAG\n",
      "FLOOR_LEVEL\n",
      "MAIN_HEATING_CONTROLS\n",
      "GLAZED_TYPE\n",
      "EXTENSION_COUNT\n",
      "NUMBER_OPEN_FIREPLACES\n",
      "HOTWATER_DESCRIPTION\n",
      "FLOOR_DESCRIPTION\n",
      "WINDOWS_DESCRIPTION\n",
      "WALLS_DESCRIPTION\n",
      "ROOF_DESCRIPTION\n",
      "HEAT_LOSS_CORRIDOOR\n",
      "LIGHTING_DESCRIPTION\n"
     ]
    }
   ],
   "source": [
    "inputs_train, inputs_test = process_data_for_modelling(epc_train_ex, epc_test_ex)"
   ]
  },
  {
   "cell_type": "code",
   "execution_count": 10,
   "metadata": {},
   "outputs": [],
   "source": [
    "from sklearn.preprocessing import MinMaxScaler\n",
    "scaler = MinMaxScaler(feature_range=(0, 1))"
   ]
  },
  {
   "cell_type": "code",
   "execution_count": 11,
   "metadata": {},
   "outputs": [],
   "source": [
    "def scale_numeric(df,col):\n",
    "    \n",
    "    null_index = df[col].isnull()\n",
    "    df.loc[~null_index, [col]] = scaler.fit_transform(df.loc[~null_index, [col]])\n",
    "    \n",
    "    return df"
   ]
  },
  {
   "cell_type": "code",
   "execution_count": 12,
   "metadata": {},
   "outputs": [],
   "source": [
    "inputs_train = scale_numeric(inputs_train,'TOTAL_FLOOR_AREA')\n",
    "inputs_test = scale_numeric(inputs_test,'TOTAL_FLOOR_AREA')\n",
    "try:\n",
    "    inputs_train = scale_numeric(inputs_train,'FLOOR_HEIGHT')\n",
    "    inputs_test = scale_numeric(inputs_test,'FLOOR_HEIGHT')\n",
    "except:\n",
    "    pass\n",
    "try:\n",
    "    inputs_train = scale_numeric(inputs_train,'NUMBER_HABITABLE_ROOMS')\n",
    "    inputs_test = scale_numeric(inputs_test,'NUMBER_HABITABLE_ROOMS')\n",
    "except:\n",
    "    pass"
   ]
  },
  {
   "cell_type": "markdown",
   "metadata": {},
   "source": [
    "### check and fill missing values"
   ]
  },
  {
   "cell_type": "code",
   "execution_count": 13,
   "metadata": {},
   "outputs": [],
   "source": [
    "numeric_cols = inputs_train.dtypes[inputs_train.dtypes == 'float'].index"
   ]
  },
  {
   "cell_type": "code",
   "execution_count": 14,
   "metadata": {},
   "outputs": [
    {
     "data": {
      "text/plain": [
       "FLOOR_HEIGHT                 0.459413\n",
       "NUMBER_HABITABLE_ROOMS       0.086999\n",
       "TOTAL_FLOOR_AREA             0.000000\n",
       "CURRENT_ENERGY_EFFICIENCY    0.000000\n",
       "dtype: float64"
      ]
     },
     "execution_count": 14,
     "metadata": {},
     "output_type": "execute_result"
    }
   ],
   "source": [
    "inputs_train[numeric_cols].isnull().sum().sort_values(ascending = False) / inputs_train.shape[0]"
   ]
  },
  {
   "cell_type": "code",
   "execution_count": 15,
   "metadata": {},
   "outputs": [],
   "source": [
    "try:\n",
    "    inputs_train['FLOOR_HEIGHT'] = inputs_train['FLOOR_HEIGHT'].fillna(inputs_train['FLOOR_HEIGHT'].mean())\n",
    "    inputs_test['FLOOR_HEIGHT'] = inputs_test['FLOOR_HEIGHT'].fillna(inputs_test['FLOOR_HEIGHT'].mean())\n",
    "    inputs_train['NUMBER_HABITABLE_ROOMS'] = inputs_train['NUMBER_HABITABLE_ROOMS'].fillna(inputs_train['NUMBER_HABITABLE_ROOMS'].mean())\n",
    "    inputs_test['NUMBER_HABITABLE_ROOMS'] = inputs_test['NUMBER_HABITABLE_ROOMS'].fillna(inputs_test['NUMBER_HABITABLE_ROOMS'].mean())\n",
    "except:\n",
    "    pass"
   ]
  },
  {
   "cell_type": "markdown",
   "metadata": {},
   "source": [
    "### create final dataframes"
   ]
  },
  {
   "cell_type": "code",
   "execution_count": 16,
   "metadata": {},
   "outputs": [],
   "source": [
    "target_train = inputs_train['CURRENT_ENERGY_EFFICIENCY']\n",
    "inputs_train = inputs_train.drop('CURRENT_ENERGY_EFFICIENCY',axis=1)\n",
    "target_test = inputs_test['CURRENT_ENERGY_EFFICIENCY']\n",
    "inputs_test = inputs_test.drop('CURRENT_ENERGY_EFFICIENCY',axis=1)"
   ]
  },
  {
   "cell_type": "markdown",
   "metadata": {},
   "source": [
    "### train the model"
   ]
  },
  {
   "cell_type": "code",
   "execution_count": 17,
   "metadata": {},
   "outputs": [
    {
     "name": "stdout",
     "output_type": "stream",
     "text": [
      "WARNING:tensorflow:From /usr/local/lib/python3.7/site-packages/keras/backend/tensorflow_backend.py:66: The name tf.get_default_graph is deprecated. Please use tf.compat.v1.get_default_graph instead.\n",
      "\n",
      "WARNING:tensorflow:From /usr/local/lib/python3.7/site-packages/keras/backend/tensorflow_backend.py:541: The name tf.placeholder is deprecated. Please use tf.compat.v1.placeholder instead.\n",
      "\n",
      "WARNING:tensorflow:From /usr/local/lib/python3.7/site-packages/keras/backend/tensorflow_backend.py:4432: The name tf.random_uniform is deprecated. Please use tf.random.uniform instead.\n",
      "\n",
      "Total network parameters:  132839\n",
      "WARNING:tensorflow:From /usr/local/lib/python3.7/site-packages/keras/optimizers.py:793: The name tf.train.Optimizer is deprecated. Please use tf.compat.v1.train.Optimizer instead.\n",
      "\n",
      "WARNING:tensorflow:From /usr/local/lib/python3.7/site-packages/keras/backend/tensorflow_backend.py:1033: The name tf.assign_add is deprecated. Please use tf.compat.v1.assign_add instead.\n",
      "\n",
      "WARNING:tensorflow:From /usr/local/lib/python3.7/site-packages/keras/backend/tensorflow_backend.py:1020: The name tf.assign is deprecated. Please use tf.compat.v1.assign instead.\n",
      "\n",
      "Train on 569346 samples, validate on 63261 samples\n",
      "Epoch 1/999\n",
      "569346/569346 [==============================] - 63s 111us/step - loss: 61.4912 - val_loss: 49.7645\n",
      "Epoch 2/999\n",
      "569346/569346 [==============================] - 61s 106us/step - loss: 47.7440 - val_loss: 47.6705\n",
      "Epoch 3/999\n",
      "569346/569346 [==============================] - 61s 106us/step - loss: 46.6245 - val_loss: 47.1223\n",
      "Epoch 4/999\n",
      "569346/569346 [==============================] - 61s 106us/step - loss: 45.8915 - val_loss: 46.1510\n",
      "Epoch 5/999\n",
      "569346/569346 [==============================] - 61s 106us/step - loss: 45.3060 - val_loss: 45.9601\n",
      "Epoch 6/999\n",
      "569346/569346 [==============================] - 62s 109us/step - loss: 44.8552 - val_loss: 47.6196\n",
      "Epoch 7/999\n",
      "569346/569346 [==============================] - 60s 106us/step - loss: 44.4522 - val_loss: 46.0994\n"
     ]
    },
    {
     "data": {
      "text/plain": [
       "<keras.callbacks.History at 0x131726e80>"
      ]
     },
     "execution_count": 17,
     "metadata": {},
     "output_type": "execute_result"
    }
   ],
   "source": [
    "seed(5)\n",
    "\n",
    "#Instantiate network and early stopping monitor (stop training if\n",
    "#validation error doesnt drop for 2 successive epochs)\n",
    "deep_model = Sequential()\n",
    "deep_model_monitor = EarlyStopping(patience = 2)\n",
    "\n",
    "#Specify architecture\n",
    "n_inputs = inputs_train.shape[1]\n",
    "\n",
    "deep_model.add(Dense(120,activation = 'relu', input_shape = (n_inputs,)))\n",
    "deep_model.add(Dense(60,activation = 'relu'))\n",
    "deep_model.add(Dense(10,activation = 'relu'))\n",
    "deep_model.add(Dense(4,activation = 'relu'))\n",
    "deep_model.add(Dense(1,activation = 'relu'))\n",
    "\n",
    "#Get the total number of tunable parameters)\n",
    "print(\"Total network parameters:  %i\" % deep_model.count_params())\n",
    "\n",
    "deep_model.compile(optimizer = 'adam',loss = 'mean_squared_error')\n",
    "\n",
    "#Train the model\n",
    "deep_model.fit(inputs_train,target_train, epochs = 999,\n",
    "               validation_split = 0.1, callbacks = [deep_model_monitor])"
   ]
  },
  {
   "cell_type": "code",
   "execution_count": 18,
   "metadata": {},
   "outputs": [
    {
     "name": "stdout",
     "output_type": "stream",
     "text": [
      "\tVariance scores:\t0.8277\t0.8190\n",
      "\tMean squared error:\t43.8087\t45.5159\n",
      "\tR2 delta\t\t0.008709\n"
     ]
    }
   ],
   "source": [
    "#Get performance on training and test data\n",
    "predict_train = deep_model.predict(inputs_train)\n",
    "predict_test = deep_model.predict(inputs_test)\n",
    "train_r_squared = r2_score(target_train,predict_train)\n",
    "test_r_squared = r2_score(target_test,predict_test)\n",
    "train_mse = mean_squared_error(target_train,predict_train)\n",
    "test_mse = mean_squared_error(target_test,predict_test)\n",
    "r2_delta = abs(train_r_squared - test_r_squared)\n",
    "print('\\tVariance scores:\\t%.4f\\t%.4f' % (train_r_squared,test_r_squared))\n",
    "print('\\tMean squared error:\\t%.4f\\t%.4f' % (train_mse, test_mse))\n",
    "print(\"\\tR2 delta\\t\\t%f\" % r2_delta)"
   ]
  },
  {
   "cell_type": "markdown",
   "metadata": {},
   "source": [
    "## Results by band"
   ]
  },
  {
   "cell_type": "code",
   "execution_count": 22,
   "metadata": {},
   "outputs": [],
   "source": [
    "# predict_test_series = pd.Series(predict_test)\n",
    "test_scored = pd.DataFrame(target_test)\n",
    "test_scored = test_scored.reset_index(drop=True)\n",
    "test_scored['predicted_score'] = predict_test"
   ]
  },
  {
   "cell_type": "code",
   "execution_count": 24,
   "metadata": {},
   "outputs": [],
   "source": [
    "band_bins = [-1,0,20,38,54,68,80,91,100]\n",
    "band_labels = ['I','G','F','E','D','C','B','A']\n",
    "test_scored['predicted_band'] = pd.cut(test_scored['predicted_score'],bins = band_bins, labels = band_labels)\n",
    "test_scored['actual_band'] = pd.cut(test_scored['CURRENT_ENERGY_EFFICIENCY'],bins = band_bins, labels = band_labels)"
   ]
  },
  {
   "cell_type": "code",
   "execution_count": 25,
   "metadata": {},
   "outputs": [
    {
     "data": {
      "text/plain": [
       "0.6858338813293541"
      ]
     },
     "execution_count": 25,
     "metadata": {},
     "output_type": "execute_result"
    }
   ],
   "source": [
    "# average accuracy per band\n",
    "(test_scored['actual_band'] == test_scored['predicted_band']).sum()/len(test_scored)"
   ]
  },
  {
   "cell_type": "code",
   "execution_count": 26,
   "metadata": {},
   "outputs": [
    {
     "data": {
      "text/plain": [
       "actual_band\n",
       "I    0.000000\n",
       "G    0.475523\n",
       "F    0.474977\n",
       "E    0.659698\n",
       "D    0.756316\n",
       "C    0.696329\n",
       "B    0.632007\n",
       "A    0.131274\n",
       "Name: correct_band, dtype: float64"
      ]
     },
     "execution_count": 26,
     "metadata": {},
     "output_type": "execute_result"
    }
   ],
   "source": [
    "# accuracy for each band\n",
    "test_scored['correct_band'] = test_scored['actual_band'] == test_scored['predicted_band']\n",
    "test_scored.groupby('actual_band')['correct_band'].sum()/test_scored.groupby('actual_band')['correct_band'].count()"
   ]
  },
  {
   "cell_type": "code",
   "execution_count": 27,
   "metadata": {},
   "outputs": [],
   "source": [
    "# manipulating data for heatmap\n",
    "for_heatmap = test_scored[['actual_band','predicted_band']]\n",
    "for_dummy = for_heatmap.pop('actual_band')\n",
    "for_heatmap = pd.concat([for_heatmap, pd.get_dummies(for_dummy)], axis=1)\n",
    "for_heatmap_summed = for_heatmap.groupby('predicted_band')['A','B','C','D','E','F','G'].sum()"
   ]
  },
  {
   "cell_type": "code",
   "execution_count": 28,
   "metadata": {},
   "outputs": [],
   "source": [
    "def get_pct(x):\n",
    "    return (x/(x.sum()))*100"
   ]
  },
  {
   "cell_type": "code",
   "execution_count": 29,
   "metadata": {},
   "outputs": [],
   "source": [
    "for_heatmap_summed = for_heatmap_summed.apply(get_pct,axis = 0)"
   ]
  },
  {
   "cell_type": "code",
   "execution_count": 30,
   "metadata": {},
   "outputs": [
    {
     "data": {
      "image/png": "[encoded data removed]",
      "text/plain": [
       "<Figure size 720x360 with 1 Axes>"
      ]
     },
     "metadata": {},
     "output_type": "display_data"
    }
   ],
   "source": [
    "heatmap_test = round(for_heatmap_summed,0)\n",
    "heatmap_test = heatmap_test.replace(0,np.nan)\n",
    "heatmap_test = heatmap_test.loc[['G','F','E','D','C','B','A'],:]\n",
    "\n",
    "f = plt.figure(figsize=(10,5))\n",
    "sns.heatmap(heatmap_test, cmap='RdYlGn',annot=True,cbar=False)\n",
    "plt.xlabel('Acutal Energy Efficiency Band')\n",
    "plt.ylabel('Predicted Energy Efficiency Band')\n",
    "plt.show()"
   ]
  }
 ],
 "metadata": {
  "kernelspec": {
   "display_name": "Python 3",
   "language": "python",
   "name": "python3"
  },
  "language_info": {
   "codemirror_mode": {
    "name": "ipython",
    "version": 3
   },
   "file_extension": ".py",
   "mimetype": "text/x-python",
   "name": "python",
   "nbconvert_exporter": "python",
   "pygments_lexer": "ipython3",
   "version": "3.7.4"
  }
 },
 "nbformat": 4,
 "nbformat_minor": 2
}
