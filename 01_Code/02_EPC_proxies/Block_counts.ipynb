{
 "cells": [
  {
   "cell_type": "markdown",
   "metadata": {},
   "source": [
    "# Block Counts"
   ]
  },
  {
   "cell_type": "markdown",
   "metadata": {},
   "source": [
    "This script counts the number of properties in a terrace and uses it to derive a built form for the buildings"
   ]
  },
  {
   "cell_type": "code",
   "execution_count": 1,
   "metadata": {},
   "outputs": [],
   "source": [
    "import numpy as np\n",
    "import pandas as pd\n",
    "import geopandas as gpd\n",
    "import os\n",
    "import json\n",
    "import datetime as dt"
   ]
  },
  {
   "cell_type": "code",
   "execution_count": 39,
   "metadata": {},
   "outputs": [],
   "source": [
    "# set variables from config file\n",
    "config_path = os.path.abspath('..')\n",
    "\n",
    "with open(config_path + '/config.json', 'r') as f:\n",
    "    config = json.load(f)\n",
    "\n",
    "polygon_path = config['DEFAULT']['polygon_path']\n",
    "buildings_fname = config['DEFAULT']['buildings_fname']\n",
    "built_form_fname = config['DEFAULT']['built_form_fname']"
   ]
  },
  {
   "cell_type": "code",
   "execution_count": 3,
   "metadata": {},
   "outputs": [],
   "source": [
    "buildings = pd.read_csv(os.path.join(polygon_path,buildings_fname),header=0,delimiter=',')"
   ]
  },
  {
   "cell_type": "markdown",
   "metadata": {},
   "source": [
    "### 0 distance neighbours"
   ]
  },
  {
   "cell_type": "code",
   "execution_count": 4,
   "metadata": {},
   "outputs": [],
   "source": [
    "# To reduce the time taken work with a subset of the data. As nn_count represents the count of neighbours \n",
    "# who are not next door neighbours (i.e. distance between building geometries is > 0), filtering on nn_count < 4 \n",
    "# will give a subset of properties with two next door neighbours\n",
    "b_attached = buildings[(buildings['nn_count'] < 4)].copy()"
   ]
  },
  {
   "cell_type": "markdown",
   "metadata": {},
   "source": [
    "For neighbours with a 0 distance find the min and max uprn, sort by these and drop duplicates. If two properties are next door neighbours they will appear in the data twice, once with each building as the primary uprn and the other building as the nearest neighbour. To find unique lists of properties in the same block, first need to remove these duplicates"
   ]
  },
  {
   "cell_type": "code",
   "execution_count": 5,
   "metadata": {},
   "outputs": [],
   "source": [
    "# split into a files which will give 0 distance pairs of buildings\n",
    "terraced_pd = b_attached[b_attached['d1']==0].copy()\n",
    "terraced_d2 = b_attached[b_attached['d2']==0].copy()\n",
    "terraced_d3 = b_attached[b_attached['d3']==0].copy()\n",
    "terraced_d4 = b_attached[b_attached['d4']==0].copy()\n",
    "\n",
    "# where a pair of buildings are next door neighbours the min uprn and max uprn will be the same for both rows\n",
    "terraced_pd['uprn_min'] = b_attached.loc[:,['uprn','uprn1']].min(axis=1)\n",
    "terraced_pd['uprn_max'] = b_attached.loc[:,['uprn','uprn1']].max(axis=1)\n",
    "terraced2 = terraced_pd.drop_duplicates(subset=['uprn_min','uprn_max'])\n",
    "\n",
    "terraced_d2['uprn_min'] = terraced_d2.loc[:,['uprn','uprn2']].min(axis=1)\n",
    "terraced_d2['uprn_max'] = terraced_d2.loc[:,['uprn','uprn2']].max(axis=1)\n",
    "terraced_d2_2 = terraced_d2.drop_duplicates(subset=['uprn_min','uprn_max'])\n",
    "\n",
    "terraced_d3['uprn_min'] = terraced_d3.loc[:,['uprn','uprn3']].min(axis=1)\n",
    "terraced_d3['uprn_max'] = terraced_d3.loc[:,['uprn','uprn3']].max(axis=1)\n",
    "terraced_d3_2 = terraced_d3.drop_duplicates(subset=['uprn_min','uprn_max'])\n",
    "\n",
    "terraced_d4['uprn_min'] = terraced_d4.loc[:,['uprn','uprn4']].min(axis=1)\n",
    "terraced_d4['uprn_max'] = terraced_d4.loc[:,['uprn','uprn4']].max(axis=1)\n",
    "terraced_d4_2 = terraced_d4.drop_duplicates(subset=['uprn_min','uprn_max'])\n",
    "\n",
    "# repeat above steps for all neighbour pairs\n",
    "terraced3 = pd.concat([terraced2,terraced_d2_2,terraced_d3_2,terraced_d4_2])\n",
    "terraced3.dropna(subset=['uprn_min','uprn_max'],inplace=True)\n",
    "terraced3['uprn_min'] = terraced3['uprn_min'].astype(int)\n",
    "terraced3['uprn_max'] = terraced3['uprn_max'].astype(int)\n",
    "terraced3 = terraced3.sort_values(by = 'uprn_min')\n",
    "terraced4 = terraced3.drop_duplicates(subset=['uprn_min','uprn_max'])"
   ]
  },
  {
   "cell_type": "code",
   "execution_count": 6,
   "metadata": {},
   "outputs": [],
   "source": [
    "# array of all unique pairs of 0 distance neighbours\n",
    "uprn_min = list(terraced4['uprn_min'])\n",
    "uprn_max = list(terraced4['uprn_max'])\n",
    "\n",
    "uprn_min_max = np.array(terraced4[['uprn_min','uprn_max']])"
   ]
  },
  {
   "cell_type": "markdown",
   "metadata": {},
   "source": [
    "## Combine pairs of 0 distance neighbours"
   ]
  },
  {
   "cell_type": "markdown",
   "metadata": {},
   "source": [
    "### Exact matches"
   ]
  },
  {
   "cell_type": "markdown",
   "metadata": {},
   "source": [
    "Function to combine lists of houses with a common uprn, note the lists have been sorted by the minimum uprn to bring lists with a common uprn next to each other"
   ]
  },
  {
   "cell_type": "code",
   "execution_count": 9,
   "metadata": {},
   "outputs": [],
   "source": [
    "def combine_blocks(uprn_min_max):\n",
    "    \n",
    "    ''' \n",
    "    Loops through an array combining lists of integers with a common item into one list of unique items. \n",
    "    Parameters\n",
    "      uprn_min_max: numpy array of arrays\n",
    "    Returns a list and a count of how pairs of lists where combined\n",
    "    '''\n",
    "    \n",
    "    start = dt.datetime.now()\n",
    "    all_neighbours = list()\n",
    "    j = len(uprn_min_max)\n",
    "    yes_count = 0\n",
    "    for i in range(len(uprn_min_max)):\n",
    "        if i != j:\n",
    "            try:\n",
    "                list1 = list(uprn_min_max[i])\n",
    "                list2 = list(uprn_min_max[i+1])\n",
    "                if any(i in list1 for i in list2):\n",
    "                    all_neighbours.append(list(set(list1+list2)))\n",
    "                    j = i+1\n",
    "                    yes_count += 1\n",
    "                else:\n",
    "                    all_neighbours.append(list1)\n",
    "            except:\n",
    "                list1 = list(uprn_min_max[i])\n",
    "                all_neighbours.append(list1)\n",
    "    end = dt.datetime.now()\n",
    "#     print((end - start).total_seconds())\n",
    "    print('total number of combination of blocks '+str(len(all_neighbours)))\n",
    "    print('number of blocks combined was '+str(yes_count))\n",
    "    return all_neighbours, yes_count"
   ]
  },
  {
   "cell_type": "code",
   "execution_count": 8,
   "metadata": {},
   "outputs": [
    {
     "name": "stdout",
     "output_type": "stream",
     "text": [
      "total number of combination of blocks247859\n",
      "number of blocks combined was 135424\n"
     ]
    }
   ],
   "source": [
    "all_neighbours, yes_count = combine_blocks(uprn_min_max)"
   ]
  },
  {
   "cell_type": "code",
   "execution_count": 10,
   "metadata": {},
   "outputs": [
    {
     "data": {
      "text/plain": [
       "[[10002523665, 10002523677, 10002523671]]"
      ]
     },
     "execution_count": 10,
     "metadata": {},
     "output_type": "execute_result"
    }
   ],
   "source": [
    "# example below shows the array now contains a list with three entries (all neighbours)\n",
    "[y for y in all_neighbours if 10002523671 in y]"
   ]
  },
  {
   "cell_type": "code",
   "execution_count": 11,
   "metadata": {},
   "outputs": [
    {
     "name": "stdout",
     "output_type": "stream",
     "text": [
      "total number of combination of blocks 186264\n",
      "number of blocks combined was 61595\n",
      "total number of combination of blocks 164751\n",
      "number of blocks combined was 21513\n",
      "total number of combination of blocks 158542\n",
      "number of blocks combined was 6209\n",
      "total number of combination of blocks 157026\n",
      "number of blocks combined was 1516\n",
      "total number of combination of blocks 156867\n",
      "number of blocks combined was 159\n",
      "total number of combination of blocks 156859\n",
      "number of blocks combined was 8\n",
      "total number of combination of blocks 156856\n",
      "number of blocks combined was 3\n",
      "total number of combination of blocks 156853\n",
      "number of blocks combined was 3\n",
      "total number of combination of blocks 156850\n",
      "number of blocks combined was 3\n",
      "total number of combination of blocks 156847\n",
      "number of blocks combined was 3\n",
      "total number of combination of blocks 156845\n",
      "number of blocks combined was 2\n",
      "total number of combination of blocks 156843\n",
      "number of blocks combined was 2\n",
      "total number of combination of blocks 156841\n",
      "number of blocks combined was 2\n",
      "total number of combination of blocks 156839\n",
      "number of blocks combined was 2\n",
      "total number of combination of blocks 156837\n",
      "number of blocks combined was 2\n",
      "total number of combination of blocks 156836\n",
      "number of blocks combined was 1\n"
     ]
    }
   ],
   "source": [
    "# the above function is run until no more combinatons of neighbours can be found this way\n",
    "while yes_count > 1:\n",
    "    all_neighbours, yes_count = combine_blocks(all_neighbours)"
   ]
  },
  {
   "cell_type": "markdown",
   "metadata": {},
   "source": [
    "### Equal min and max "
   ]
  },
  {
   "cell_type": "markdown",
   "metadata": {},
   "source": [
    "In some cases the min of one list is the max of another list and vice versa as in the example below:"
   ]
  },
  {
   "cell_type": "code",
   "execution_count": 12,
   "metadata": {},
   "outputs": [
    {
     "data": {
      "text/plain": [
       "[[100100489334, 100100489336], [100100489336, 100100489338]]"
      ]
     },
     "execution_count": 12,
     "metadata": {},
     "output_type": "execute_result"
    }
   ],
   "source": [
    "[y for y in all_neighbours if 100100489336 in y]"
   ]
  },
  {
   "cell_type": "code",
   "execution_count": 13,
   "metadata": {},
   "outputs": [
    {
     "data": {
      "text/plain": [
       "[102490, 102492]"
      ]
     },
     "execution_count": 13,
     "metadata": {},
     "output_type": "execute_result"
    }
   ],
   "source": [
    "# find list index for blocks with 100100489336\n",
    "[i for i,e in enumerate(all_neighbours) if 100100489336 in e]"
   ]
  },
  {
   "cell_type": "markdown",
   "metadata": {},
   "source": [
    "In the example above the indices are two places away from each other. The data needs to be sorted in a way to bring these rows together"
   ]
  },
  {
   "cell_type": "code",
   "execution_count": 14,
   "metadata": {},
   "outputs": [],
   "source": [
    "def list_of_list_to_df(list_of_lists):\n",
    "    \n",
    "    '''\n",
    "    Converts a list of lists into a dataframe\n",
    "    Parameters\n",
    "      list_of_lists: a list of lists\n",
    "    Returns a dataframe\n",
    "    '''\n",
    "    \n",
    "    length = len(sorted(list_of_lists,key=len, reverse=True)[0])\n",
    "    y=np.array([xi+[None]*(length-len(xi)) for xi in list_of_lists])\n",
    "    return pd.DataFrame(y)"
   ]
  },
  {
   "cell_type": "code",
   "execution_count": 15,
   "metadata": {},
   "outputs": [],
   "source": [
    "def get_uprn_min_max(df):\n",
    "    \n",
    "    '''\n",
    "    Calculates the min and max values of each row and converts to values to an integer\n",
    "    Parameters\n",
    "      df: a dataframe\n",
    "    Returns a dataframe\n",
    "    '''\n",
    "    \n",
    "    df['uprn_min'] = df.min(axis=1)\n",
    "    df['uprn_max'] = df.max(axis=1)\n",
    "    df['uprn_min'] = df['uprn_min'].astype(int)\n",
    "    df['uprn_max'] = df['uprn_max'].astype(int)\n",
    "    return df"
   ]
  },
  {
   "cell_type": "code",
   "execution_count": 16,
   "metadata": {},
   "outputs": [],
   "source": [
    "def shift_by_2(all_neighbours):\n",
    "    \n",
    "    '''\n",
    "    Calculates the min and max values of each row and converts to values to an integer\n",
    "    Parameters\n",
    "      all_neighbours: a list\n",
    "    Returns a list\n",
    "    '''\n",
    "    \n",
    "    blocks = list_of_list_to_df(all_neighbours)\n",
    "    blocks = get_uprn_min_max(blocks)\n",
    "\n",
    "#     print(len(blocks))\n",
    "#     blocks.drop_duplicates(inplace=True)\n",
    "#     print(len(blocks))\n",
    "    \n",
    "    blocks['max_pre'] = blocks['uprn_max'].shift(2)\n",
    "    blocks['min_max'] = blocks.apply(lambda row: row['uprn_min'] if row['max_pre']==row['uprn_min'] else row['uprn_max'],axis=1)\n",
    "    blocks = blocks.sort_values(by = 'min_max')\n",
    "    blocks.drop(columns=['uprn_min','uprn_max','min_max','max_pre'],inplace=True)\n",
    "\n",
    "    # turn dataframe back into list for processing\n",
    "    blocks_rows = list()\n",
    "    for i in range(len(blocks)):\n",
    "        blocks_rows.append(list(blocks.iloc[i]))\n",
    "\n",
    "    sorted_neighbours = [[x for x in y if x is not None] for y in blocks_rows]\n",
    "    return sorted_neighbours"
   ]
  },
  {
   "cell_type": "code",
   "execution_count": 17,
   "metadata": {},
   "outputs": [
    {
     "name": "stdout",
     "output_type": "stream",
     "text": [
      "total number of combination of blocks 129383\n",
      "number of blocks combined was 27453\n"
     ]
    }
   ],
   "source": [
    "sorted_neighbours = shift_by_2(all_neighbours)\n",
    "all_neighbours, yes_count = combine_blocks(sorted_neighbours)"
   ]
  },
  {
   "cell_type": "code",
   "execution_count": 18,
   "metadata": {},
   "outputs": [
    {
     "name": "stdout",
     "output_type": "stream",
     "text": [
      "total number of combination of blocks 126313\n",
      "number of blocks combined was 3070\n",
      "total number of combination of blocks 126036\n",
      "number of blocks combined was 277\n",
      "total number of combination of blocks 126017\n",
      "number of blocks combined was 19\n",
      "total number of combination of blocks 126017\n",
      "number of blocks combined was 0\n"
     ]
    }
   ],
   "source": [
    "while yes_count > 1:\n",
    "    all_neighbours, yes_count = combine_blocks(all_neighbours)"
   ]
  },
  {
   "cell_type": "code",
   "execution_count": 19,
   "metadata": {},
   "outputs": [
    {
     "data": {
      "text/plain": [
       "[[100100489334, 100100489336], [100100489336, 100100489338]]"
      ]
     },
     "execution_count": 19,
     "metadata": {},
     "output_type": "execute_result"
    }
   ],
   "source": [
    "# Check test blocks above have been combined\n",
    "[y for y in all_neighbours if 100100489336 in y]\n",
    "# Not yet as other blocks were combined instead"
   ]
  },
  {
   "cell_type": "code",
   "execution_count": 20,
   "metadata": {},
   "outputs": [
    {
     "data": {
      "text/plain": [
       "[76084, 76086]"
      ]
     },
     "execution_count": 20,
     "metadata": {},
     "output_type": "execute_result"
    }
   ],
   "source": [
    "# find list index for blocks with 100100489336\n",
    "[i for i,e in enumerate(all_neighbours) if 100100489336 in e]"
   ]
  },
  {
   "cell_type": "code",
   "execution_count": 21,
   "metadata": {},
   "outputs": [
    {
     "name": "stdout",
     "output_type": "stream",
     "text": [
      "total number of combination of blocks 114419\n",
      "number of blocks combined was 11598\n",
      "total number of combination of blocks 114145\n",
      "number of blocks combined was 274\n",
      "total number of combination of blocks 114139\n",
      "number of blocks combined was 6\n",
      "total number of combination of blocks 114139\n",
      "number of blocks combined was 0\n"
     ]
    }
   ],
   "source": [
    "sorted_neighbours = shift_by_2(all_neighbours)\n",
    "all_neighbours, yes_count = combine_blocks(sorted_neighbours)\n",
    "while yes_count > 1:\n",
    "    all_neighbours, yes_count = combine_blocks(all_neighbours)"
   ]
  },
  {
   "cell_type": "code",
   "execution_count": 22,
   "metadata": {},
   "outputs": [
    {
     "data": {
      "text/plain": [
       "[[100100489328, 100100489330, 100100489332, 100100489334, 100100489336],\n",
       " [100100489336, 100100489338]]"
      ]
     },
     "execution_count": 22,
     "metadata": {},
     "output_type": "execute_result"
    }
   ],
   "source": [
    "# Check test blocks above have been combined\n",
    "[y for y in all_neighbours if 100100489336 in y]\n",
    "# Not yet as other blocks were combined instead"
   ]
  },
  {
   "cell_type": "code",
   "execution_count": 23,
   "metadata": {},
   "outputs": [
    {
     "data": {
      "text/plain": [
       "[68480, 68482]"
      ]
     },
     "execution_count": 23,
     "metadata": {},
     "output_type": "execute_result"
    }
   ],
   "source": [
    "# find list index for blocks with 100100489336\n",
    "[i for i,e in enumerate(all_neighbours) if 100100489336 in e]"
   ]
  },
  {
   "cell_type": "code",
   "execution_count": 24,
   "metadata": {},
   "outputs": [
    {
     "name": "stdout",
     "output_type": "stream",
     "text": [
      "total number of combination of blocks 107265\n",
      "number of blocks combined was 6874\n",
      "total number of combination of blocks 107124\n",
      "number of blocks combined was 141\n",
      "total number of combination of blocks 107123\n",
      "number of blocks combined was 1\n"
     ]
    }
   ],
   "source": [
    "sorted_neighbours = shift_by_2(all_neighbours)\n",
    "all_neighbours, yes_count = combine_blocks(sorted_neighbours)\n",
    "while yes_count > 1:\n",
    "    all_neighbours, yes_count = combine_blocks(all_neighbours)"
   ]
  },
  {
   "cell_type": "code",
   "execution_count": 25,
   "metadata": {},
   "outputs": [
    {
     "data": {
      "text/plain": [
       "[[100100489328,\n",
       "  100100489330,\n",
       "  100100489332,\n",
       "  100100489334,\n",
       "  100100489336,\n",
       "  100100489338]]"
      ]
     },
     "execution_count": 25,
     "metadata": {},
     "output_type": "execute_result"
    }
   ],
   "source": [
    "# Check test blocks above have been combined\n",
    "[y for y in all_neighbours if 100100489336 in y]\n",
    "# Yes"
   ]
  },
  {
   "cell_type": "markdown",
   "metadata": {},
   "source": [
    "Repeat until all no more combinations are found"
   ]
  },
  {
   "cell_type": "code",
   "execution_count": 27,
   "metadata": {},
   "outputs": [
    {
     "name": "stdout",
     "output_type": "stream",
     "text": [
      "total number of combination of blocks 102422\n",
      "number of blocks combined was 4701\n",
      "1\n",
      "total number of combination of blocks 102344\n",
      "number of blocks combined was 78\n",
      "2\n",
      "total number of combination of blocks 102344\n",
      "number of blocks combined was 0\n",
      "total number of combination of blocks 99110\n",
      "number of blocks combined was 3234\n",
      "1\n",
      "total number of combination of blocks 99062\n",
      "number of blocks combined was 48\n",
      "2\n",
      "total number of combination of blocks 99062\n",
      "number of blocks combined was 0\n",
      "total number of combination of blocks 96491\n",
      "number of blocks combined was 2571\n",
      "1\n",
      "total number of combination of blocks 96457\n",
      "number of blocks combined was 34\n",
      "2\n",
      "total number of combination of blocks 96456\n",
      "number of blocks combined was 1\n",
      "total number of combination of blocks 94417\n",
      "number of blocks combined was 2039\n",
      "1\n",
      "total number of combination of blocks 94398\n",
      "number of blocks combined was 19\n",
      "2\n",
      "total number of combination of blocks 94398\n",
      "number of blocks combined was 0\n",
      "total number of combination of blocks 92748\n",
      "number of blocks combined was 1650\n",
      "1\n",
      "total number of combination of blocks 92726\n",
      "number of blocks combined was 22\n",
      "2\n",
      "total number of combination of blocks 92726\n",
      "number of blocks combined was 0\n",
      "total number of combination of blocks 91393\n",
      "number of blocks combined was 1333\n",
      "1\n",
      "total number of combination of blocks 91387\n",
      "number of blocks combined was 6\n",
      "2\n",
      "total number of combination of blocks 91387\n",
      "number of blocks combined was 0\n",
      "total number of combination of blocks 90286\n",
      "number of blocks combined was 1101\n",
      "1\n",
      "total number of combination of blocks 90282\n",
      "number of blocks combined was 4\n",
      "2\n",
      "total number of combination of blocks 90282\n",
      "number of blocks combined was 0\n",
      "total number of combination of blocks 89373\n",
      "number of blocks combined was 909\n",
      "1\n",
      "total number of combination of blocks 89367\n",
      "number of blocks combined was 6\n",
      "2\n",
      "total number of combination of blocks 89366\n",
      "number of blocks combined was 1\n",
      "total number of combination of blocks 88611\n",
      "number of blocks combined was 755\n",
      "1\n",
      "total number of combination of blocks 88608\n",
      "number of blocks combined was 3\n",
      "2\n",
      "total number of combination of blocks 88608\n",
      "number of blocks combined was 0\n",
      "total number of combination of blocks 87992\n",
      "number of blocks combined was 616\n",
      "1\n",
      "total number of combination of blocks 87990\n",
      "number of blocks combined was 2\n",
      "2\n",
      "total number of combination of blocks 87989\n",
      "number of blocks combined was 1\n",
      "total number of combination of blocks 87453\n",
      "number of blocks combined was 536\n",
      "1\n",
      "total number of combination of blocks 87453\n",
      "number of blocks combined was 0\n"
     ]
    }
   ],
   "source": [
    "sorted_neighbours = shift_by_2(all_neighbours)\n",
    "all_neighbours, yes_count = combine_blocks(sorted_neighbours)\n",
    "iteration_count = 0\n",
    "while yes_count > 1:\n",
    "    iteration_count += 1\n",
    "    print(iteration_count)\n",
    "    all_neighbours, yes_count = combine_blocks(all_neighbours)\n",
    "\n",
    "while iteration_count > 1:\n",
    "    sorted_neighbours = shift_by_2(all_neighbours)\n",
    "    all_neighbours, yes_count = combine_blocks(sorted_neighbours)\n",
    "    iteration_count = 0\n",
    "    while yes_count > 1:\n",
    "        iteration_count += 1\n",
    "        print(iteration_count)\n",
    "        all_neighbours, yes_count = combine_blocks(all_neighbours)"
   ]
  },
  {
   "cell_type": "markdown",
   "metadata": {},
   "source": [
    "### All other combinations"
   ]
  },
  {
   "cell_type": "code",
   "execution_count": 29,
   "metadata": {},
   "outputs": [],
   "source": [
    "def combine_blocks_all(current_list):\n",
    "    start = dt.datetime.now()\n",
    "    yes_count = 0\n",
    "    all_neighbours = list()\n",
    "    length = len(current_list)\n",
    "    k = []\n",
    "    for i in range(length):\n",
    "        block1 = current_list[i]\n",
    "        combo = block1\n",
    "        if i not in k:\n",
    "            for j in range(i+1,length):\n",
    "                block2 = current_list[j]\n",
    "                if any(i in block1 for i in block2):\n",
    "                    combo = list(set(block1+block2))\n",
    "                    k.append(j)\n",
    "                    yes_count += 1\n",
    "                    break\n",
    "            all_neighbours.append(combo)\n",
    "    end = dt.datetime.now()\n",
    "#     print((end - start).total_seconds())\n",
    "    print('total number of combination of blocks '+str(len(all_neighbours)))\n",
    "    print('number of blocks combined was '+str(yes_count))\n",
    "    return all_neighbours, yes_count"
   ]
  },
  {
   "cell_type": "code",
   "execution_count": 30,
   "metadata": {},
   "outputs": [
    {
     "name": "stdout",
     "output_type": "stream",
     "text": [
      "total number of combination of blocks 80483\n",
      "number of blocks combined was 7339\n"
     ]
    }
   ],
   "source": [
    "all_neighbours, yes_count = combine_blocks_all(all_neighbours)"
   ]
  },
  {
   "cell_type": "code",
   "execution_count": 31,
   "metadata": {},
   "outputs": [
    {
     "name": "stdout",
     "output_type": "stream",
     "text": [
      "total number of combination of blocks 78506\n",
      "number of blocks combined was 2002\n",
      "total number of combination of blocks 78007\n",
      "number of blocks combined was 507\n",
      "total number of combination of blocks 77864\n",
      "number of blocks combined was 143\n",
      "total number of combination of blocks 77828\n",
      "number of blocks combined was 36\n",
      "total number of combination of blocks 77824\n",
      "number of blocks combined was 4\n",
      "total number of combination of blocks 77824\n",
      "number of blocks combined was 0\n"
     ]
    }
   ],
   "source": [
    "while yes_count > 0:\n",
    "    all_neighbours, yes_count = combine_blocks_all(all_neighbours)"
   ]
  },
  {
   "cell_type": "code",
   "execution_count": 32,
   "metadata": {},
   "outputs": [],
   "source": [
    "# convert to a dataframe\n",
    "blocks = list_of_list_to_df(all_neighbours)"
   ]
  },
  {
   "cell_type": "code",
   "execution_count": 33,
   "metadata": {},
   "outputs": [],
   "source": [
    "# count number of entries in each list\n",
    "blocks['block_count'] = blocks.astype(bool).sum(axis=1)\n",
    "blocks['uprn'] = blocks[0].astype(int)"
   ]
  },
  {
   "cell_type": "code",
   "execution_count": 34,
   "metadata": {},
   "outputs": [
    {
     "name": "stderr",
     "output_type": "stream",
     "text": [
      "/usr/local/lib/python3.7/site-packages/pandas/core/frame.py:3781: SettingWithCopyWarning: \n",
      "A value is trying to be set on a copy of a slice from a DataFrame\n",
      "\n",
      "See the caveats in the documentation: http://pandas.pydata.org/pandas-docs/stable/indexing.html#indexing-view-versus-copy\n",
      "  return super(DataFrame, self).rename(**kwargs)\n",
      "/usr/local/lib/python3.7/site-packages/ipykernel_launcher.py:7: SettingWithCopyWarning: \n",
      "A value is trying to be set on a copy of a slice from a DataFrame\n",
      "\n",
      "See the caveats in the documentation: http://pandas.pydata.org/pandas-docs/stable/indexing.html#indexing-view-versus-copy\n",
      "  import sys\n"
     ]
    }
   ],
   "source": [
    "# combine uprn columns to merge back to original data. As each combination is unique the number of properties in the \n",
    "# terrace needs to be repeated for each entry in the list\n",
    "blocks_all_uprn = pd.DataFrame()\n",
    "for col in range(blocks.shape[1]-2):\n",
    "    tmp_df = blocks[[col,'block_count']]\n",
    "    tmp_df.rename(columns = {col:'uprn'},inplace=True)\n",
    "    tmp_df.dropna(subset=['uprn'],inplace=True)\n",
    "    blocks_all_uprn = pd.concat([blocks_all_uprn,tmp_df])"
   ]
  },
  {
   "cell_type": "code",
   "execution_count": 35,
   "metadata": {},
   "outputs": [],
   "source": [
    "# join back to original file\n",
    "blocks_all_uprn['uprn'] = blocks_all_uprn['uprn'].astype(int)\n",
    "built_form = buildings.merge(blocks_all_uprn,how = 'left', on = 'uprn')"
   ]
  },
  {
   "cell_type": "code",
   "execution_count": 37,
   "metadata": {},
   "outputs": [],
   "source": [
    "def built_form(block_count,nn_count):\n",
    "    \n",
    "    ''' \n",
    "    Defines a rule for deriving built form based on number of neighbours a property has and how many properties make \n",
    "    up the terrace/block\n",
    "      block_count: count of properties in the terrace\n",
    "      nn_count: count of nearest neighbours where the geometric distance is more than 0\n",
    "    Returns a list and a count of how pairs of lists where combined\n",
    "    '''\n",
    "    \n",
    "    # 3 or more properties in the terrace and one 0 distance neighbour\n",
    "    if(block_count >= 3 and nn_count == 4):\n",
    "        return 'end-terrace'\n",
    "    # 3 or more properties in the terrace and two 0 distance neighbours\n",
    "    elif(block_count >= 3 and nn_count <4):\n",
    "        return 'mid-terrace'\n",
    "    # one 0 distance neighbour\n",
    "    elif(nn_count == 4):\n",
    "        return 'semi-detached'\n",
    "    # catch all for any other properties with a 0 distance neighbour\n",
    "    elif(nn_count < 5):\n",
    "        return 'attached'\n",
    "    # no 0 distance neighbours therefore detached\n",
    "    else:\n",
    "        return 'detached'"
   ]
  },
  {
   "cell_type": "code",
   "execution_count": 38,
   "metadata": {},
   "outputs": [],
   "source": [
    "built_form['built_form'] = built_form.apply(lambda row: built_form(row['block_count'],row['nn_count']),axis=1)"
   ]
  },
  {
   "cell_type": "code",
   "execution_count": null,
   "metadata": {},
   "outputs": [],
   "source": [
    "built_form.to_csv(os.path.join(polygon_path,built_form_fname),index=False)"
   ]
  }
 ],
 "metadata": {
  "kernelspec": {
   "display_name": "Python 3",
   "language": "python",
   "name": "python3"
  },
  "language_info": {
   "codemirror_mode": {
    "name": "ipython",
    "version": 3
   },
   "file_extension": ".py",
   "mimetype": "text/x-python",
   "name": "python",
   "nbconvert_exporter": "python",
   "pygments_lexer": "ipython3",
   "version": "3.7.4"
  }
 },
 "nbformat": 4,
 "nbformat_minor": 2
}
